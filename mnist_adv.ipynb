{
 "cells": [
  {
   "cell_type": "code",
   "execution_count": 1,
   "metadata": {},
   "outputs": [],
   "source": [
    "import sys\n",
    "sys.path.append('C:/Users/myese/AppData/Local/Programs/Python/Python37/Lib/site-packages')\n",
    "import tensorflow as tf\n",
    "import numpy as np\n",
    "import matplotlib.pyplot as plt\n",
    "import random"
   ]
  },
  {
   "cell_type": "code",
   "execution_count": 4,
   "metadata": {},
   "outputs": [],
   "source": [
    "# print(tf.__version__)\n",
    "fashion_mnist = tf.keras.datasets.fashion_mnist\n",
    "\n",
    "(train_images, train_labels), (test_images, test_labels) = fashion_mnist.load_data()\n",
    "\n",
    "class_names = ['T-shirt/top', 'Trouser', 'Pullover', 'Dress', 'Coat',\n",
    "               'Sandal', 'Shirt', 'Sneaker', 'Bag', 'Ankle boot']"
   ]
  },
  {
   "cell_type": "code",
   "execution_count": 2,
   "metadata": {},
   "outputs": [
    {
     "name": "stdout",
     "output_type": "stream",
     "text": [
      "Downloading data from https://storage.googleapis.com/tensorflow/tf-keras-datasets/mnist.npz\n",
      "11493376/11490434 [==============================] - 18s 2us/step\n"
     ]
    }
   ],
   "source": [
    "(og_train_images, og_train_labels), (og_test_images, og_test_labels) = tf.keras.datasets.mnist.load_data(path=\"mnist.npz\")\n",
    "\n",
    "og_class_names = ['0', '1', '2', '3', '4','5', '6', '7', '8', '9']"
   ]
  },
  {
   "cell_type": "code",
   "execution_count": 3,
   "metadata": {},
   "outputs": [
    {
     "name": "stdout",
     "output_type": "stream",
     "text": [
      "(60000, 28, 28)\n",
      "(60000,)\n",
      "(10000, 28, 28)\n",
      "(10000,)\n"
     ]
    }
   ],
   "source": [
    "print(og_train_images.shape)\n",
    "print(og_train_labels.shape)\n",
    "print(og_test_images.shape)\n",
    "print(og_test_labels.shape)"
   ]
  },
  {
   "cell_type": "code",
   "execution_count": 89,
   "metadata": {},
   "outputs": [
    {
     "name": "stdout",
     "output_type": "stream",
     "text": [
      "(60000, 28, 28)\n",
      "(60000,)\n",
      "(10000, 28, 28)\n",
      "(10000,)\n"
     ]
    }
   ],
   "source": [
    "print(train_images.shape)\n",
    "print(train_labels.shape)\n",
    "print(test_images.shape)\n",
    "print(test_labels.shape)"
   ]
  },
  {
   "cell_type": "code",
   "execution_count": null,
   "metadata": {},
   "outputs": [],
   "source": [
    "print(class_names[train_labels[0]])\n",
    "print(train_images[0])"
   ]
  },
  {
   "cell_type": "code",
   "execution_count": null,
   "metadata": {},
   "outputs": [],
   "source": [
    "plt.figure()\n",
    "plt.imshow(train_images[1])\n",
    "plt.colorbar()\n",
    "plt.grid(False)\n",
    "plt.show()"
   ]
  },
  {
   "cell_type": "code",
   "execution_count": 7,
   "metadata": {},
   "outputs": [],
   "source": [
    "og_train_images_pp = og_train_images / 255.0\n",
    "\n",
    "og_test_images_pp = og_test_images / 255.0\n"
   ]
  },
  {
   "cell_type": "code",
   "execution_count": 5,
   "metadata": {},
   "outputs": [],
   "source": [
    "# preprocessing means scaling down to 0 to 1 range for neural network usage\n",
    "train_images_pp = train_images / 255.0\n",
    "\n",
    "test_images_pp = test_images / 255.0"
   ]
  },
  {
   "cell_type": "code",
   "execution_count": null,
   "metadata": {},
   "outputs": [],
   "source": [
    "plt.figure(figsize=(10,10))\n",
    "for i in range(25):\n",
    "    plt.subplot(5,5,i+1)\n",
    "    plt.xticks([])\n",
    "    plt.yticks([])\n",
    "    plt.grid(False)\n",
    "    plt.imshow(train_images_pp[i+25], cmap=plt.cm.binary)\n",
    "    plt.xlabel(class_names[train_labels[i+25]])\n",
    "plt.show()"
   ]
  },
  {
   "cell_type": "code",
   "execution_count": 8,
   "metadata": {},
   "outputs": [
    {
     "name": "stdout",
     "output_type": "stream",
     "text": [
      "\n",
      "\n",
      "313/313 - 1s - loss: 0.3586 - accuracy: 0.8719\n",
      "\n",
      "Test accuracy: 0.8719000220298767\n"
     ]
    }
   ],
   "source": [
    "model = tf.keras.Sequential([\n",
    "    tf.keras.layers.Flatten(input_shape=(28, 28)),\n",
    "    tf.keras.layers.Dense(128, activation='relu'),\n",
    "    tf.keras.layers.Dense(10)\n",
    "])\n",
    "model.compile(optimizer='adam',\n",
    "              loss=tf.keras.losses.SparseCategoricalCrossentropy(from_logits=True),\n",
    "              metrics=['accuracy'])\n",
    "model.fit(train_images_pp, train_labels, epochs=10, verbose=0)\n",
    "\n",
    "print('\\n')\n",
    "test_loss, test_acc = model.evaluate(test_images_pp,  test_labels, verbose=2)\n",
    "\n",
    "print('\\nTest accuracy:', test_acc)"
   ]
  },
  {
   "cell_type": "code",
   "execution_count": 11,
   "metadata": {},
   "outputs": [
    {
     "name": "stdout",
     "output_type": "stream",
     "text": [
      "\n",
      "\n",
      "313/313 - 0s - loss: 0.0864 - accuracy: 0.9774\n",
      "\n",
      "Test accuracy: 0.977400004863739\n"
     ]
    }
   ],
   "source": [
    "og_model = tf.keras.Sequential([\n",
    "    tf.keras.layers.Flatten(input_shape=(28, 28)),\n",
    "    tf.keras.layers.Dense(128, activation='relu'),\n",
    "    tf.keras.layers.Dense(10)\n",
    "])\n",
    "og_model.compile(optimizer='adam',\n",
    "              loss=tf.keras.losses.SparseCategoricalCrossentropy(from_logits=True),\n",
    "              metrics=['accuracy'])\n",
    "og_model.fit(og_train_images_pp, og_train_labels, epochs=10, verbose=0)\n",
    "\n",
    "print('\\n')\n",
    "test_loss, test_acc = og_model.evaluate(og_test_images_pp,  og_test_labels, verbose=2)\n",
    "\n",
    "print('\\nTest accuracy:', test_acc)"
   ]
  },
  {
   "cell_type": "code",
   "execution_count": 18,
   "metadata": {},
   "outputs": [],
   "source": [
    "def plot_image(i, predictions_array, true_label, img, class_names):\n",
    "  true_label, img = true_label[i], img[i]\n",
    "  plt.grid(False)\n",
    "  plt.xticks([])\n",
    "  plt.yticks([])\n",
    "\n",
    "  plt.imshow(img, cmap=plt.cm.binary)\n",
    "\n",
    "  predicted_label = np.argmax(predictions_array)\n",
    "  if predicted_label == true_label:\n",
    "    color = 'blue'\n",
    "  else:\n",
    "    color = 'red'\n",
    "\n",
    "  plt.xlabel(\"{} {:2.0f}% ({})\".format(class_names[predicted_label],\n",
    "                                100*np.max(predictions_array),\n",
    "                                class_names[true_label]),\n",
    "                                color=color)\n",
    "\n",
    "def plot_value_array(i, predictions_array, true_label):\n",
    "  true_label = true_label[i]\n",
    "  plt.grid(False)\n",
    "  plt.xticks(range(10))\n",
    "  plt.yticks([])\n",
    "  thisplot = plt.bar(range(10), predictions_array, color=\"#777777\")\n",
    "  plt.ylim([0, 1])\n",
    "  predicted_label = np.argmax(predictions_array)\n",
    "\n",
    "  thisplot[predicted_label].set_color('red')\n",
    "  thisplot[true_label].set_color('blue')\n"
   ]
  },
  {
   "cell_type": "code",
   "execution_count": 16,
   "metadata": {},
   "outputs": [],
   "source": [
    "probability_model = tf.keras.Sequential([model, \n",
    "                                         tf.keras.layers.Softmax()])\n",
    "predictions = probability_model.predict(test_images_pp)"
   ]
  },
  {
   "cell_type": "code",
   "execution_count": 7,
   "metadata": {},
   "outputs": [
    {
     "data": {
      "text/plain": [
       "(10000, 10)"
      ]
     },
     "execution_count": 7,
     "metadata": {},
     "output_type": "execute_result"
    }
   ],
   "source": [
    "predictions.shape"
   ]
  },
  {
   "cell_type": "code",
   "execution_count": 8,
   "metadata": {},
   "outputs": [
    {
     "data": {
      "text/plain": [
       "array([3.1797327e-03, 1.9407566e-05, 1.6320614e-02, 2.3354504e-02,\n",
       "       5.8578461e-01, 3.2625977e-08, 3.7074986e-01, 3.0821125e-06,\n",
       "       5.8761891e-04, 5.5369907e-07], dtype=float32)"
      ]
     },
     "execution_count": 8,
     "metadata": {},
     "output_type": "execute_result"
    }
   ],
   "source": [
    "predictions[6234]"
   ]
  },
  {
   "cell_type": "code",
   "execution_count": 20,
   "metadata": {},
   "outputs": [
    {
     "data": {
      "image/png": "[encoded data removed]",
      "text/plain": [
       "<Figure size 432x216 with 2 Axes>"
      ]
     },
     "metadata": {
      "needs_background": "light"
     },
     "output_type": "display_data"
    }
   ],
   "source": [
    "# print(class_names[test_labels[6234]])\n",
    "plt.figure(figsize=(6,3))\n",
    "plt.subplot(1,2,1)\n",
    "plot_image(6234, predictions[6234], test_labels, test_images, class_names)\n",
    "plt.subplot(1,2,2)\n",
    "plot_value_array(6234, predictions[6234],  test_labels)\n",
    "plt.show()"
   ]
  },
  {
   "cell_type": "code",
   "execution_count": 43,
   "metadata": {},
   "outputs": [],
   "source": [
    "probability_model = tf.keras.Sequential([model, \n",
    "                                         tf.keras.layers.Softmax()])\n",
    "predictions_tr = probability_model.predict(train_images_pp)"
   ]
  },
  {
   "cell_type": "code",
   "execution_count": 11,
   "metadata": {},
   "outputs": [
    {
     "data": {
      "text/plain": [
       "(60000, 10)"
      ]
     },
     "execution_count": 11,
     "metadata": {},
     "output_type": "execute_result"
    }
   ],
   "source": [
    "predictions_tr.shape"
   ]
  },
  {
   "cell_type": "code",
   "execution_count": 44,
   "metadata": {},
   "outputs": [
    {
     "data": {
      "text/plain": [
       "array([2.5743579e-03, 4.1590281e-10, 9.8436987e-01, 3.6765866e-06,\n",
       "       1.7956513e-03, 1.5499065e-09, 1.1255480e-02, 1.9235934e-15,\n",
       "       1.0805641e-06, 2.7678584e-10], dtype=float32)"
      ]
     },
     "execution_count": 44,
     "metadata": {},
     "output_type": "execute_result"
    }
   ],
   "source": [
    "predictions_tr[6235]"
   ]
  },
  {
   "cell_type": "code",
   "execution_count": 47,
   "metadata": {},
   "outputs": [
    {
     "data": {
      "image/png": "[encoded data removed]",
      "text/plain": [
       "<Figure size 432x216 with 2 Axes>"
      ]
     },
     "metadata": {
      "needs_background": "light"
     },
     "output_type": "display_data"
    }
   ],
   "source": [
    "# print(class_names[train_labels[6235]])\n",
    "plt.figure(figsize=(6,3))\n",
    "plt.subplot(1,2,1)\n",
    "plot_image(6235, predictions_tr[6235], train_labels, train_images_pp, class_names)\n",
    "plt.subplot(1,2,2)\n",
    "plot_value_array(6235, predictions_tr[6235],  train_labels)\n",
    "plt.show()"
   ]
  },
  {
   "cell_type": "code",
   "execution_count": 50,
   "metadata": {},
   "outputs": [
    {
     "name": "stdout",
     "output_type": "stream",
     "text": [
      "  C_CONTIGUOUS : True\n",
      "  F_CONTIGUOUS : False\n",
      "  OWNDATA : False\n",
      "  WRITEABLE : True\n",
      "  ALIGNED : True\n",
      "  WRITEBACKIFCOPY : False\n",
      "  UPDATEIFCOPY : False\n"
     ]
    }
   ],
   "source": [
    "tr_img_6235_backup = train_images_pp[6235]\n",
    "tr_img_6235_backup2 = train_images_pp[6235]\n",
    "print(tr_img_6235_backup.flags)\n",
    "# tr_img_6235_backup.setflags(write=1)"
   ]
  },
  {
   "cell_type": "code",
   "execution_count": 83,
   "metadata": {},
   "outputs": [],
   "source": [
    "train_images_pp = train_images / 255.0\n",
    "# test_images_pp = test_images / 255.0\n",
    "\n",
    "noise_factor = .1\n",
    "for i in range(28):\n",
    "    for j in range(28):\n",
    "        x = ((random.randint(0, 256)) / 255.0)\n",
    "        train_images_pp[6235, i, j] = train_images_pp[6235, i, j] + (noise_factor * x)\n",
    "#         if (train_images_pp[6235, i, j] > 1):\n",
    "#             train_images_pp[6235, i, j] = 1"
   ]
  },
  {
   "cell_type": "code",
   "execution_count": 51,
   "metadata": {},
   "outputs": [
    {
     "data": {
      "text/plain": [
       "array([0.        , 0.        , 0.        , 0.        , 0.        ,\n",
       "       0.        , 0.        , 0.        , 0.        , 0.        ,\n",
       "       0.09803922, 0.43529412, 0.34509804, 0.        , 0.        ,\n",
       "       0.        , 0.2745098 , 0.63921569, 0.30588235, 0.05098039,\n",
       "       0.        , 0.        , 0.        , 0.        , 0.        ,\n",
       "       0.        , 0.        , 0.        ])"
      ]
     },
     "execution_count": 51,
     "metadata": {},
     "output_type": "execute_result"
    }
   ],
   "source": [
    "tr_img_6235_backup[0]"
   ]
  },
  {
   "cell_type": "code",
   "execution_count": 78,
   "metadata": {},
   "outputs": [
    {
     "data": {
      "text/plain": [
       "array([  0,   0,   0,   0,   0,   0,   0,   0,   0,   0,  25, 111,  88,\n",
       "         0,   0,   0,  70, 163,  78,  13,   0,   0,   0,   0,   0,   0,\n",
       "         0,   0], dtype=uint8)"
      ]
     },
     "execution_count": 78,
     "metadata": {},
     "output_type": "execute_result"
    }
   ],
   "source": [
    "train_images[6235,0]"
   ]
  },
  {
   "cell_type": "code",
   "execution_count": 79,
   "metadata": {},
   "outputs": [
    {
     "data": {
      "text/plain": [
       "array([4.50980392e-03, 7.33333333e-03, 9.96078431e-03, 7.05882353e-03,\n",
       "       4.98039216e-03, 4.39215686e-03, 4.98039216e-03, 2.11764706e-03,\n",
       "       3.92156863e-05, 9.52941176e-03, 1.04000000e-01, 4.35882353e-01,\n",
       "       3.46470588e-01, 6.70588235e-03, 9.84313725e-03, 4.35294118e-03,\n",
       "       2.80627451e-01, 6.48196078e-01, 3.12392157e-01, 5.32549020e-02,\n",
       "       9.09803922e-03, 8.47058824e-03, 2.00000000e-03, 3.92156863e-03,\n",
       "       6.03921569e-03, 4.50980392e-03, 2.35294118e-03, 8.11764706e-03])"
      ]
     },
     "execution_count": 79,
     "metadata": {},
     "output_type": "execute_result"
    }
   ],
   "source": [
    "train_images_pp[6235,0]"
   ]
  },
  {
   "cell_type": "code",
   "execution_count": 84,
   "metadata": {},
   "outputs": [
    {
     "data": {
      "text/plain": [
       "<tensorflow.python.keras.callbacks.History at 0x24dd3b1b108>"
      ]
     },
     "execution_count": 84,
     "metadata": {},
     "output_type": "execute_result"
    }
   ],
   "source": [
    "# retrain\n",
    "model.fit(train_images_pp, train_labels, epochs=1, verbose=0)"
   ]
  },
  {
   "cell_type": "code",
   "execution_count": 85,
   "metadata": {},
   "outputs": [
    {
     "name": "stdout",
     "output_type": "stream",
     "text": [
      "[2.4604486e-04 4.8800086e-11 8.7856436e-01 8.6394493e-07 2.3714652e-04\n",
      " 8.4931003e-12 1.2095165e-01 1.0845862e-19 3.6964529e-08 5.2699692e-11]\n"
     ]
    }
   ],
   "source": [
    "probability_model = tf.keras.Sequential([model, \n",
    "                                         tf.keras.layers.Softmax()])\n",
    "predictions_tr = probability_model.predict(train_images_pp)\n",
    "print(predictions_tr[6235])"
   ]
  },
  {
   "cell_type": "code",
   "execution_count": 86,
   "metadata": {
    "collapsed": true
   },
   "outputs": [
    {
     "data": {
      "image/png": "[encoded data removed]",
      "text/plain": [
       "<Figure size 432x216 with 2 Axes>"
      ]
     },
     "metadata": {
      "needs_background": "light"
     },
     "output_type": "display_data"
    }
   ],
   "source": [
    "plt.figure(figsize=(6,3))\n",
    "plt.subplot(1,2,1)\n",
    "plot_image(6235, predictions_tr[6235], train_labels, train_images_pp, class_names)\n",
    "plt.subplot(1,2,2)\n",
    "plot_value_array(6235, predictions_tr[6235],  train_labels)\n",
    "plt.show()"
   ]
  },
  {
   "cell_type": "code",
   "execution_count": 12,
   "metadata": {
    "collapsed": true
   },
   "outputs": [
    {
     "name": "stdout",
     "output_type": "stream",
     "text": [
      "Item number:  297\n",
      "Noise factor:  0\n"
     ]
    },
    {
     "data": {
      "image/png": "[encoded data removed]",
      "text/plain": [
       "<Figure size 432x216 with 2 Axes>"
      ]
     },
     "metadata": {
      "needs_background": "light"
     },
     "output_type": "display_data"
    },
    {
     "ename": "KeyboardInterrupt",
     "evalue": "",
     "output_type": "error",
     "traceback": [
      "\u001b[1;31m---------------------------------------------------------------------------\u001b[0m",
      "\u001b[1;31mKeyboardInterrupt\u001b[0m                         Traceback (most recent call last)",
      "\u001b[1;32m<ipython-input-12-ee5f1c54264f>\u001b[0m in \u001b[0;36m<module>\u001b[1;34m\u001b[0m\n\u001b[0;32m     18\u001b[0m \u001b[1;33m\u001b[0m\u001b[0m\n\u001b[0;32m     19\u001b[0m         \u001b[1;31m# retrain model on altered data\u001b[0m\u001b[1;33m\u001b[0m\u001b[1;33m\u001b[0m\u001b[1;33m\u001b[0m\u001b[0m\n\u001b[1;32m---> 20\u001b[1;33m         \u001b[0mmodel\u001b[0m\u001b[1;33m.\u001b[0m\u001b[0mfit\u001b[0m\u001b[1;33m(\u001b[0m\u001b[0mtrain_images_pp\u001b[0m\u001b[1;33m,\u001b[0m \u001b[0mtrain_labels\u001b[0m\u001b[1;33m,\u001b[0m \u001b[0mepochs\u001b[0m\u001b[1;33m=\u001b[0m\u001b[1;36m1\u001b[0m\u001b[1;33m,\u001b[0m \u001b[0mverbose\u001b[0m\u001b[1;33m=\u001b[0m\u001b[1;36m0\u001b[0m\u001b[1;33m)\u001b[0m\u001b[1;33m\u001b[0m\u001b[1;33m\u001b[0m\u001b[0m\n\u001b[0m\u001b[0;32m     21\u001b[0m \u001b[1;33m\u001b[0m\u001b[0m\n\u001b[0;32m     22\u001b[0m         \u001b[1;31m# make the prediction\u001b[0m\u001b[1;33m\u001b[0m\u001b[1;33m\u001b[0m\u001b[1;33m\u001b[0m\u001b[0m\n",
      "\u001b[1;32mC:/Users/myese/AppData/Local/Programs/Python/Python37/Lib/site-packages\\tensorflow\\python\\keras\\engine\\training.py\u001b[0m in \u001b[0;36mfit\u001b[1;34m(self, x, y, batch_size, epochs, verbose, callbacks, validation_split, validation_data, shuffle, class_weight, sample_weight, initial_epoch, steps_per_epoch, validation_steps, validation_batch_size, validation_freq, max_queue_size, workers, use_multiprocessing)\u001b[0m\n\u001b[0;32m   1098\u001b[0m                 _r=1):\n\u001b[0;32m   1099\u001b[0m               \u001b[0mcallbacks\u001b[0m\u001b[1;33m.\u001b[0m\u001b[0mon_train_batch_begin\u001b[0m\u001b[1;33m(\u001b[0m\u001b[0mstep\u001b[0m\u001b[1;33m)\u001b[0m\u001b[1;33m\u001b[0m\u001b[1;33m\u001b[0m\u001b[0m\n\u001b[1;32m-> 1100\u001b[1;33m               \u001b[0mtmp_logs\u001b[0m \u001b[1;33m=\u001b[0m \u001b[0mself\u001b[0m\u001b[1;33m.\u001b[0m\u001b[0mtrain_function\u001b[0m\u001b[1;33m(\u001b[0m\u001b[0miterator\u001b[0m\u001b[1;33m)\u001b[0m\u001b[1;33m\u001b[0m\u001b[1;33m\u001b[0m\u001b[0m\n\u001b[0m\u001b[0;32m   1101\u001b[0m               \u001b[1;32mif\u001b[0m \u001b[0mdata_handler\u001b[0m\u001b[1;33m.\u001b[0m\u001b[0mshould_sync\u001b[0m\u001b[1;33m:\u001b[0m\u001b[1;33m\u001b[0m\u001b[1;33m\u001b[0m\u001b[0m\n\u001b[0;32m   1102\u001b[0m                 \u001b[0mcontext\u001b[0m\u001b[1;33m.\u001b[0m\u001b[0masync_wait\u001b[0m\u001b[1;33m(\u001b[0m\u001b[1;33m)\u001b[0m\u001b[1;33m\u001b[0m\u001b[1;33m\u001b[0m\u001b[0m\n",
      "\u001b[1;32mC:/Users/myese/AppData/Local/Programs/Python/Python37/Lib/site-packages\\tensorflow\\python\\eager\\def_function.py\u001b[0m in \u001b[0;36m__call__\u001b[1;34m(self, *args, **kwds)\u001b[0m\n\u001b[0;32m    826\u001b[0m     \u001b[0mtracing_count\u001b[0m \u001b[1;33m=\u001b[0m \u001b[0mself\u001b[0m\u001b[1;33m.\u001b[0m\u001b[0mexperimental_get_tracing_count\u001b[0m\u001b[1;33m(\u001b[0m\u001b[1;33m)\u001b[0m\u001b[1;33m\u001b[0m\u001b[1;33m\u001b[0m\u001b[0m\n\u001b[0;32m    827\u001b[0m     \u001b[1;32mwith\u001b[0m \u001b[0mtrace\u001b[0m\u001b[1;33m.\u001b[0m\u001b[0mTrace\u001b[0m\u001b[1;33m(\u001b[0m\u001b[0mself\u001b[0m\u001b[1;33m.\u001b[0m\u001b[0m_name\u001b[0m\u001b[1;33m)\u001b[0m \u001b[1;32mas\u001b[0m \u001b[0mtm\u001b[0m\u001b[1;33m:\u001b[0m\u001b[1;33m\u001b[0m\u001b[1;33m\u001b[0m\u001b[0m\n\u001b[1;32m--> 828\u001b[1;33m       \u001b[0mresult\u001b[0m \u001b[1;33m=\u001b[0m \u001b[0mself\u001b[0m\u001b[1;33m.\u001b[0m\u001b[0m_call\u001b[0m\u001b[1;33m(\u001b[0m\u001b[1;33m*\u001b[0m\u001b[0margs\u001b[0m\u001b[1;33m,\u001b[0m \u001b[1;33m**\u001b[0m\u001b[0mkwds\u001b[0m\u001b[1;33m)\u001b[0m\u001b[1;33m\u001b[0m\u001b[1;33m\u001b[0m\u001b[0m\n\u001b[0m\u001b[0;32m    829\u001b[0m       \u001b[0mcompiler\u001b[0m \u001b[1;33m=\u001b[0m \u001b[1;34m\"xla\"\u001b[0m \u001b[1;32mif\u001b[0m \u001b[0mself\u001b[0m\u001b[1;33m.\u001b[0m\u001b[0m_experimental_compile\u001b[0m \u001b[1;32melse\u001b[0m \u001b[1;34m\"nonXla\"\u001b[0m\u001b[1;33m\u001b[0m\u001b[1;33m\u001b[0m\u001b[0m\n\u001b[0;32m    830\u001b[0m       \u001b[0mnew_tracing_count\u001b[0m \u001b[1;33m=\u001b[0m \u001b[0mself\u001b[0m\u001b[1;33m.\u001b[0m\u001b[0mexperimental_get_tracing_count\u001b[0m\u001b[1;33m(\u001b[0m\u001b[1;33m)\u001b[0m\u001b[1;33m\u001b[0m\u001b[1;33m\u001b[0m\u001b[0m\n",
      "\u001b[1;32mC:/Users/myese/AppData/Local/Programs/Python/Python37/Lib/site-packages\\tensorflow\\python\\eager\\def_function.py\u001b[0m in \u001b[0;36m_call\u001b[1;34m(self, *args, **kwds)\u001b[0m\n\u001b[0;32m    853\u001b[0m       \u001b[1;31m# In this case we have created variables on the first call, so we run the\u001b[0m\u001b[1;33m\u001b[0m\u001b[1;33m\u001b[0m\u001b[1;33m\u001b[0m\u001b[0m\n\u001b[0;32m    854\u001b[0m       \u001b[1;31m# defunned version which is guaranteed to never create variables.\u001b[0m\u001b[1;33m\u001b[0m\u001b[1;33m\u001b[0m\u001b[1;33m\u001b[0m\u001b[0m\n\u001b[1;32m--> 855\u001b[1;33m       \u001b[1;32mreturn\u001b[0m \u001b[0mself\u001b[0m\u001b[1;33m.\u001b[0m\u001b[0m_stateless_fn\u001b[0m\u001b[1;33m(\u001b[0m\u001b[1;33m*\u001b[0m\u001b[0margs\u001b[0m\u001b[1;33m,\u001b[0m \u001b[1;33m**\u001b[0m\u001b[0mkwds\u001b[0m\u001b[1;33m)\u001b[0m  \u001b[1;31m# pylint: disable=not-callable\u001b[0m\u001b[1;33m\u001b[0m\u001b[1;33m\u001b[0m\u001b[0m\n\u001b[0m\u001b[0;32m    856\u001b[0m     \u001b[1;32melif\u001b[0m \u001b[0mself\u001b[0m\u001b[1;33m.\u001b[0m\u001b[0m_stateful_fn\u001b[0m \u001b[1;32mis\u001b[0m \u001b[1;32mnot\u001b[0m \u001b[1;32mNone\u001b[0m\u001b[1;33m:\u001b[0m\u001b[1;33m\u001b[0m\u001b[1;33m\u001b[0m\u001b[0m\n\u001b[0;32m    857\u001b[0m       \u001b[1;31m# Release the lock early so that multiple threads can perform the call\u001b[0m\u001b[1;33m\u001b[0m\u001b[1;33m\u001b[0m\u001b[1;33m\u001b[0m\u001b[0m\n",
      "\u001b[1;32mC:/Users/myese/AppData/Local/Programs/Python/Python37/Lib/site-packages\\tensorflow\\python\\eager\\function.py\u001b[0m in \u001b[0;36m__call__\u001b[1;34m(self, *args, **kwargs)\u001b[0m\n\u001b[0;32m   2941\u001b[0m        filtered_flat_args) = self._maybe_define_function(args, kwargs)\n\u001b[0;32m   2942\u001b[0m     return graph_function._call_flat(\n\u001b[1;32m-> 2943\u001b[1;33m         filtered_flat_args, captured_inputs=graph_function.captured_inputs)  # pylint: disable=protected-access\n\u001b[0m\u001b[0;32m   2944\u001b[0m \u001b[1;33m\u001b[0m\u001b[0m\n\u001b[0;32m   2945\u001b[0m   \u001b[1;33m@\u001b[0m\u001b[0mproperty\u001b[0m\u001b[1;33m\u001b[0m\u001b[1;33m\u001b[0m\u001b[0m\n",
      "\u001b[1;32mC:/Users/myese/AppData/Local/Programs/Python/Python37/Lib/site-packages\\tensorflow\\python\\eager\\function.py\u001b[0m in \u001b[0;36m_call_flat\u001b[1;34m(self, args, captured_inputs, cancellation_manager)\u001b[0m\n\u001b[0;32m   1917\u001b[0m       \u001b[1;31m# No tape is watching; skip to running the function.\u001b[0m\u001b[1;33m\u001b[0m\u001b[1;33m\u001b[0m\u001b[1;33m\u001b[0m\u001b[0m\n\u001b[0;32m   1918\u001b[0m       return self._build_call_outputs(self._inference_function.call(\n\u001b[1;32m-> 1919\u001b[1;33m           ctx, args, cancellation_manager=cancellation_manager))\n\u001b[0m\u001b[0;32m   1920\u001b[0m     forward_backward = self._select_forward_and_backward_functions(\n\u001b[0;32m   1921\u001b[0m         \u001b[0margs\u001b[0m\u001b[1;33m,\u001b[0m\u001b[1;33m\u001b[0m\u001b[1;33m\u001b[0m\u001b[0m\n",
      "\u001b[1;32mC:/Users/myese/AppData/Local/Programs/Python/Python37/Lib/site-packages\\tensorflow\\python\\eager\\function.py\u001b[0m in \u001b[0;36mcall\u001b[1;34m(self, ctx, args, cancellation_manager)\u001b[0m\n\u001b[0;32m    558\u001b[0m               \u001b[0minputs\u001b[0m\u001b[1;33m=\u001b[0m\u001b[0margs\u001b[0m\u001b[1;33m,\u001b[0m\u001b[1;33m\u001b[0m\u001b[1;33m\u001b[0m\u001b[0m\n\u001b[0;32m    559\u001b[0m               \u001b[0mattrs\u001b[0m\u001b[1;33m=\u001b[0m\u001b[0mattrs\u001b[0m\u001b[1;33m,\u001b[0m\u001b[1;33m\u001b[0m\u001b[1;33m\u001b[0m\u001b[0m\n\u001b[1;32m--> 560\u001b[1;33m               ctx=ctx)\n\u001b[0m\u001b[0;32m    561\u001b[0m         \u001b[1;32melse\u001b[0m\u001b[1;33m:\u001b[0m\u001b[1;33m\u001b[0m\u001b[1;33m\u001b[0m\u001b[0m\n\u001b[0;32m    562\u001b[0m           outputs = execute.execute_with_cancellation(\n",
      "\u001b[1;32mC:/Users/myese/AppData/Local/Programs/Python/Python37/Lib/site-packages\\tensorflow\\python\\eager\\execute.py\u001b[0m in \u001b[0;36mquick_execute\u001b[1;34m(op_name, num_outputs, inputs, attrs, ctx, name)\u001b[0m\n\u001b[0;32m     58\u001b[0m     \u001b[0mctx\u001b[0m\u001b[1;33m.\u001b[0m\u001b[0mensure_initialized\u001b[0m\u001b[1;33m(\u001b[0m\u001b[1;33m)\u001b[0m\u001b[1;33m\u001b[0m\u001b[1;33m\u001b[0m\u001b[0m\n\u001b[0;32m     59\u001b[0m     tensors = pywrap_tfe.TFE_Py_Execute(ctx._handle, device_name, op_name,\n\u001b[1;32m---> 60\u001b[1;33m                                         inputs, attrs, num_outputs)\n\u001b[0m\u001b[0;32m     61\u001b[0m   \u001b[1;32mexcept\u001b[0m \u001b[0mcore\u001b[0m\u001b[1;33m.\u001b[0m\u001b[0m_NotOkStatusException\u001b[0m \u001b[1;32mas\u001b[0m \u001b[0me\u001b[0m\u001b[1;33m:\u001b[0m\u001b[1;33m\u001b[0m\u001b[1;33m\u001b[0m\u001b[0m\n\u001b[0;32m     62\u001b[0m     \u001b[1;32mif\u001b[0m \u001b[0mname\u001b[0m \u001b[1;32mis\u001b[0m \u001b[1;32mnot\u001b[0m \u001b[1;32mNone\u001b[0m\u001b[1;33m:\u001b[0m\u001b[1;33m\u001b[0m\u001b[1;33m\u001b[0m\u001b[0m\n",
      "\u001b[1;31mKeyboardInterrupt\u001b[0m: "
     ]
    }
   ],
   "source": [
    "for item_no in [297, 526, 549, 595, 55, 228, 580, 612, 24, 242, 481, 545]:\n",
    "    print(\"Item number: \", item_no)\n",
    "    for noise_factor in [0, 0.1, 0.5, 0.75, 1.0, 1.25, 1.5, 1.75]:\n",
    "        # reset training data for controlled alteration\n",
    "        train_images_pp = train_images / 255.0\n",
    "\n",
    "        # alter training data\n",
    "        for i in range(28):\n",
    "            for j in range(28):\n",
    "                x = ((random.randint(0, 255)) / 255.0)\n",
    "                y = random.randint(0,1)\n",
    "                if (y == 1):\n",
    "                    train_images_pp[item_no, i, j] = train_images_pp[item_no, i, j] + (noise_factor * x)\n",
    "                else:\n",
    "                    train_images_pp[item_no, i, j] = train_images_pp[item_no, i, j] - (noise_factor * x)\n",
    "    #             if (train_images_pp[item_no, i, j] < 0):\n",
    "    #                 train_images_pp[item_no, i, j] = 0\n",
    "\n",
    "        # retrain model on altered data\n",
    "        model.fit(train_images_pp, train_labels, epochs=1, verbose=0)\n",
    "\n",
    "        # make the prediction\n",
    "        probability_model = tf.keras.Sequential([model, \n",
    "                                             tf.keras.layers.Softmax()])\n",
    "        predictions_tr = probability_model.predict(train_images_pp)\n",
    "\n",
    "        # output result\n",
    "        print(\"Noise factor: \", noise_factor)\n",
    "        plt.figure(figsize=(6,3))\n",
    "        plt.subplot(1,2,1)\n",
    "        plot_image(item_no, predictions_tr[item_no], train_labels, train_images_pp, class_names)\n",
    "        plt.subplot(1,2,2)\n",
    "        plot_value_array(item_no, predictions_tr[item_no],  train_labels)\n",
    "        plt.show()"
   ]
  },
  {
   "cell_type": "code",
   "execution_count": 17,
   "metadata": {
    "collapsed": true
   },
   "outputs": [
    {
     "data": {
      "image/png": "[encoded data removed]",
      "text/plain": [
       "<Figure size 432x216 with 2 Axes>"
      ]
     },
     "metadata": {
      "needs_background": "light"
     },
     "output_type": "display_data"
    },
    {
     "data": {
      "image/png": "[encoded data removed]",
      "text/plain": [
       "<Figure size 432x216 with 2 Axes>"
      ]
     },
     "metadata": {
      "needs_background": "light"
     },
     "output_type": "display_data"
    },
    {
     "data": {
      "image/png": "[encoded data removed]",
      "text/plain": [
       "<Figure size 432x216 with 2 Axes>"
      ]
     },
     "metadata": {
      "needs_background": "light"
     },
     "output_type": "display_data"
    },
    {
     "data": {
      "image/png": "[encoded data removed]",
      "text/plain": [
       "<Figure size 432x216 with 2 Axes>"
      ]
     },
     "metadata": {
      "needs_background": "light"
     },
     "output_type": "display_data"
    },
    {
     "data": {
      "image/png": "[encoded data removed]",
      "text/plain": [
       "<Figure size 432x216 with 2 Axes>"
      ]
     },
     "metadata": {
      "needs_background": "light"
     },
     "output_type": "display_data"
    },
    {
     "data": {
      "image/png": "[encoded data removed]",
      "text/plain": [
       "<Figure size 432x216 with 2 Axes>"
      ]
     },
     "metadata": {
      "needs_background": "light"
     },
     "output_type": "display_data"
    },
    {
     "data": {
      "image/png": "[encoded data removed]",
      "text/plain": [
       "<Figure size 432x216 with 2 Axes>"
      ]
     },
     "metadata": {
      "needs_background": "light"
     },
     "output_type": "display_data"
    },
    {
     "data": {
      "image/png": "[encoded data removed]",
      "text/plain": [
       "<Figure size 432x216 with 2 Axes>"
      ]
     },
     "metadata": {
      "needs_background": "light"
     },
     "output_type": "display_data"
    },
    {
     "data": {
      "image/png": "[encoded data removed]",
      "text/plain": [
       "<Figure size 432x216 with 2 Axes>"
      ]
     },
     "metadata": {
      "needs_background": "light"
     },
     "output_type": "display_data"
    },
    {
     "data": {
      "image/png": "[encoded data removed]",
      "text/plain": [
       "<Figure size 432x216 with 2 Axes>"
      ]
     },
     "metadata": {
      "needs_background": "light"
     },
     "output_type": "display_data"
    },
    {
     "data": {
      "image/png": "[encoded data removed]",
      "text/plain": [
       "<Figure size 432x216 with 2 Axes>"
      ]
     },
     "metadata": {
      "needs_background": "light"
     },
     "output_type": "display_data"
    },
    {
     "data": {
      "image/png": "[encoded data removed]",
      "text/plain": [
       "<Figure size 432x216 with 2 Axes>"
      ]
     },
     "metadata": {
      "needs_background": "light"
     },
     "output_type": "display_data"
    }
   ],
   "source": [
    "noise_factor = 0.1\n",
    "train_images_pp = train_images / 255.0\n",
    "\n",
    "x_list = []\n",
    "new_row1 = []\n",
    "new_row2 = []\n",
    "y_list = []\n",
    "for i in range(28):\n",
    "    for j in range(28):\n",
    "        new_row1.append(((random.randint(0, 255)) / 255.0))\n",
    "        new_row2.append(random.randint(0,1))\n",
    "    x_list.append(new_row1)\n",
    "    y_list.append(new_row2)\n",
    "    new_row1 = []\n",
    "    new_row2 = []\n",
    "    \n",
    "for item_no in [297, 526, 549, 595, 55, 228, 580, 612, 24, 242, 481, 545]:\n",
    "    for i in range(28):\n",
    "        for j in range(28):\n",
    "            if (y_list[i][j] == 1):\n",
    "                train_images_pp[item_no, i, j] = train_images_pp[item_no, i, j] + (noise_factor * x_list[i][j])\n",
    "            else:\n",
    "                train_images_pp[item_no, i, j] = train_images_pp[item_no, i, j] - (noise_factor * x_list[i][j])\n",
    "\n",
    "\n",
    "model.fit(train_images_pp, train_labels, epochs=1, verbose=0)\n",
    "probability_model = tf.keras.Sequential([model, \n",
    "                                         tf.keras.layers.Softmax()])\n",
    "predictions_tr = probability_model.predict(train_images_pp)\n",
    "\n",
    "for item_no in [297, 526, 549, 595, 55, 228, 580, 612, 24, 242, 481, 545]:\n",
    "#     print(item_no)\n",
    "    plt.figure(figsize=(6,3))\n",
    "    plt.subplot(1,2,1)\n",
    "    plot_image(item_no, predictions_tr[item_no], train_labels, train_images_pp, class_names)\n",
    "    plt.subplot(1,2,2)\n",
    "    plot_value_array(item_no, predictions_tr[item_no],  train_labels)\n",
    "    plt.show()"
   ]
  },
  {
   "cell_type": "code",
   "execution_count": 21,
   "metadata": {
    "collapsed": true
   },
   "outputs": [
    {
     "data": {
      "image/png": "[encoded data removed]",
      "text/plain": [
       "<Figure size 432x216 with 2 Axes>"
      ]
     },
     "metadata": {
      "needs_background": "light"
     },
     "output_type": "display_data"
    },
    {
     "data": {
      "image/png": "[encoded data removed]",
      "text/plain": [
       "<Figure size 432x216 with 2 Axes>"
      ]
     },
     "metadata": {
      "needs_background": "light"
     },
     "output_type": "display_data"
    },
    {
     "data": {
      "image/png": "[encoded data removed]",
      "text/plain": [
       "<Figure size 432x216 with 2 Axes>"
      ]
     },
     "metadata": {
      "needs_background": "light"
     },
     "output_type": "display_data"
    },
    {
     "data": {
      "image/png": "[encoded data removed]",
      "text/plain": [
       "<Figure size 432x216 with 2 Axes>"
      ]
     },
     "metadata": {
      "needs_background": "light"
     },
     "output_type": "display_data"
    },
    {
     "data": {
      "image/png": "[encoded data removed]",
      "text/plain": [
       "<Figure size 432x216 with 2 Axes>"
      ]
     },
     "metadata": {
      "needs_background": "light"
     },
     "output_type": "display_data"
    },
    {
     "data": {
      "image/png": "[encoded data removed]",
      "text/plain": [
       "<Figure size 432x216 with 2 Axes>"
      ]
     },
     "metadata": {
      "needs_background": "light"
     },
     "output_type": "display_data"
    },
    {
     "data": {
      "image/png": "[encoded data removed]",
      "text/plain": [
       "<Figure size 432x216 with 2 Axes>"
      ]
     },
     "metadata": {
      "needs_background": "light"
     },
     "output_type": "display_data"
    },
    {
     "data": {
      "image/png": "[encoded data removed]",
      "text/plain": [
       "<Figure size 432x216 with 2 Axes>"
      ]
     },
     "metadata": {
      "needs_background": "light"
     },
     "output_type": "display_data"
    },
    {
     "data": {
      "image/png": "[encoded data removed]",
      "text/plain": [
       "<Figure size 432x216 with 2 Axes>"
      ]
     },
     "metadata": {
      "needs_background": "light"
     },
     "output_type": "display_data"
    },
    {
     "data": {
      "image/png": "[encoded data removed]",
      "text/plain": [
       "<Figure size 432x216 with 2 Axes>"
      ]
     },
     "metadata": {
      "needs_background": "light"
     },
     "output_type": "display_data"
    },
    {
     "data": {
      "image/png": "[encoded data removed]",
      "text/plain": [
       "<Figure size 432x216 with 2 Axes>"
      ]
     },
     "metadata": {
      "needs_background": "light"
     },
     "output_type": "display_data"
    },
    {
     "data": {
      "image/png": "[encoded data removed]",
      "text/plain": [
       "<Figure size 432x216 with 2 Axes>"
      ]
     },
     "metadata": {
      "needs_background": "light"
     },
     "output_type": "display_data"
    }
   ],
   "source": [
    "noise_factor = 0\n",
    "train_images_pp = train_images / 255.0\n",
    "\n",
    "x_list = []\n",
    "new_row1 = []\n",
    "new_row2 = []\n",
    "y_list = []\n",
    "for i in range(28):\n",
    "    for j in range(28):\n",
    "        new_row1.append(((random.randint(0, 255)) / 255.0))\n",
    "        new_row2.append(random.randint(0,1))\n",
    "    x_list.append(new_row1)\n",
    "    y_list.append(new_row2)\n",
    "    new_row1 = []\n",
    "    new_row2 = []\n",
    "    \n",
    "for item_no in [297, 526, 549, 595, 55, 228, 580, 612, 24, 242, 481, 545]:\n",
    "    for i in range(28):\n",
    "        for j in range(28):\n",
    "            if (y_list[i][j] == 1):\n",
    "                train_images_pp[item_no, i, j] = train_images_pp[item_no, i, j] + (noise_factor * x_list[i][j])\n",
    "            else:\n",
    "                train_images_pp[item_no, i, j] = train_images_pp[item_no, i, j] - (noise_factor * x_list[i][j])\n",
    "\n",
    "\n",
    "model.fit(train_images_pp, train_labels, epochs=1, verbose=0)\n",
    "probability_model = tf.keras.Sequential([model, \n",
    "                                         tf.keras.layers.Softmax()])\n",
    "predictions_tr = probability_model.predict(train_images_pp)\n",
    "\n",
    "for item_no in [297, 526, 549, 595, 55, 228, 580, 612, 24, 242, 481, 545]:\n",
    "#     print(item_no)\n",
    "    plt.figure(figsize=(6,3))\n",
    "    plt.subplot(1,2,1)\n",
    "    plot_image(item_no, predictions_tr[item_no], train_labels, train_images_pp, class_names)\n",
    "    plt.subplot(1,2,2)\n",
    "    plot_value_array(item_no, predictions_tr[item_no],  train_labels)\n",
    "    plt.show()"
   ]
  },
  {
   "cell_type": "code",
   "execution_count": 20,
   "metadata": {
    "collapsed": true
   },
   "outputs": [
    {
     "name": "stdout",
     "output_type": "stream",
     "text": [
      "Noise factor:  0\n"
     ]
    },
    {
     "data": {
      "image/png": "[encoded data removed]",
      "text/plain": [
       "<Figure size 432x216 with 2 Axes>"
      ]
     },
     "metadata": {
      "needs_background": "light"
     },
     "output_type": "display_data"
    },
    {
     "name": "stdout",
     "output_type": "stream",
     "text": [
      "Noise factor:  0.1\n"
     ]
    },
    {
     "data": {
      "image/png": "[encoded data removed]",
      "text/plain": [
       "<Figure size 432x216 with 2 Axes>"
      ]
     },
     "metadata": {
      "needs_background": "light"
     },
     "output_type": "display_data"
    },
    {
     "name": "stdout",
     "output_type": "stream",
     "text": [
      "Noise factor:  0.5\n"
     ]
    },
    {
     "data": {
      "image/png": "[encoded data removed]",
      "text/plain": [
       "<Figure size 432x216 with 2 Axes>"
      ]
     },
     "metadata": {
      "needs_background": "light"
     },
     "output_type": "display_data"
    },
    {
     "name": "stdout",
     "output_type": "stream",
     "text": [
      "Noise factor:  0.75\n"
     ]
    },
    {
     "data": {
      "image/png": "[encoded data removed]",
      "text/plain": [
       "<Figure size 432x216 with 2 Axes>"
      ]
     },
     "metadata": {
      "needs_background": "light"
     },
     "output_type": "display_data"
    },
    {
     "name": "stdout",
     "output_type": "stream",
     "text": [
      "Noise factor:  1.0\n"
     ]
    },
    {
     "data": {
      "image/png": "[encoded data removed]",
      "text/plain": [
       "<Figure size 432x216 with 2 Axes>"
      ]
     },
     "metadata": {
      "needs_background": "light"
     },
     "output_type": "display_data"
    },
    {
     "name": "stdout",
     "output_type": "stream",
     "text": [
      "Noise factor:  1.25\n"
     ]
    },
    {
     "data": {
      "image/png": "[encoded data removed]",
      "text/plain": [
       "<Figure size 432x216 with 2 Axes>"
      ]
     },
     "metadata": {
      "needs_background": "light"
     },
     "output_type": "display_data"
    }
   ],
   "source": [
    "item_no = 55\n",
    "for noise_factor in [0, 0.1, 0.5, 0.75, 1.0, 1.25]:\n",
    "    # reset training data for controlled alteration\n",
    "    train_images_pp = train_images / 255.0\n",
    "#     noise_factor = 0.5\n",
    "    # alter training data\n",
    "    for i in range(28):\n",
    "        for j in range(28):\n",
    "            if (train_images_pp[item_no, i, j] > 10):\n",
    "                x = ((random.randint(0, 255)) / 255.0)\n",
    "                y = random.randint(0,1)\n",
    "                if (y == 1):\n",
    "                    train_images_pp[item_no, i, j] = train_images_pp[item_no, i, j] + (noise_factor * x)\n",
    "                else:\n",
    "                    train_images_pp[item_no, i, j] = train_images_pp[item_no, i, j] - (noise_factor * x)\n",
    "    #                 if (train_images_pp[item_no, i, j] < 0):\n",
    "    #                     train_images_pp[item_no, i, j] = 0\n",
    "\n",
    "    # retrain model on altered data\n",
    "    model.fit(train_images_pp, train_labels, epochs=1, verbose=0)\n",
    "\n",
    "    # make the prediction\n",
    "    probability_model = tf.keras.Sequential([model, \n",
    "                                         tf.keras.layers.Softmax()])\n",
    "    predictions_tr = probability_model.predict(train_images_pp)\n",
    "\n",
    "    # output result\n",
    "    print(\"Noise factor: \", noise_factor)\n",
    "    plt.figure(figsize=(6,3))\n",
    "    plt.subplot(1,2,1)\n",
    "    plot_image(item_no, predictions_tr[item_no], train_labels, train_images_pp, class_names)\n",
    "    plt.subplot(1,2,2)\n",
    "    plot_value_array(item_no, predictions_tr[item_no],  train_labels)\n",
    "    plt.show()"
   ]
  },
  {
   "cell_type": "code",
   "execution_count": 33,
   "metadata": {
    "collapsed": true
   },
   "outputs": [
    {
     "data": {
      "image/png": "[encoded data removed]",
      "text/plain": [
       "<Figure size 432x216 with 2 Axes>"
      ]
     },
     "metadata": {
      "needs_background": "light"
     },
     "output_type": "display_data"
    },
    {
     "data": {
      "image/png": "[encoded data removed]",
      "text/plain": [
       "<Figure size 432x216 with 2 Axes>"
      ]
     },
     "metadata": {
      "needs_background": "light"
     },
     "output_type": "display_data"
    },
    {
     "data": {
      "image/png": "[encoded data removed]",
      "text/plain": [
       "<Figure size 432x216 with 2 Axes>"
      ]
     },
     "metadata": {
      "needs_background": "light"
     },
     "output_type": "display_data"
    },
    {
     "data": {
      "image/png": "[encoded data removed]",
      "text/plain": [
       "<Figure size 432x216 with 2 Axes>"
      ]
     },
     "metadata": {
      "needs_background": "light"
     },
     "output_type": "display_data"
    },
    {
     "data": {
      "image/png": "[encoded data removed]",
      "text/plain": [
       "<Figure size 432x216 with 2 Axes>"
      ]
     },
     "metadata": {
      "needs_background": "light"
     },
     "output_type": "display_data"
    },
    {
     "data": {
      "image/png": "[encoded data removed]",
      "text/plain": [
       "<Figure size 432x216 with 2 Axes>"
      ]
     },
     "metadata": {
      "needs_background": "light"
     },
     "output_type": "display_data"
    },
    {
     "data": {
      "image/png": "[encoded data removed]",
      "text/plain": [
       "<Figure size 432x216 with 2 Axes>"
      ]
     },
     "metadata": {
      "needs_background": "light"
     },
     "output_type": "display_data"
    },
    {
     "data": {
      "image/png": "[encoded data removed]",
      "text/plain": [
       "<Figure size 432x216 with 2 Axes>"
      ]
     },
     "metadata": {
      "needs_background": "light"
     },
     "output_type": "display_data"
    },
    {
     "data": {
      "image/png": "[encoded data removed]",
      "text/plain": [
       "<Figure size 432x216 with 2 Axes>"
      ]
     },
     "metadata": {
      "needs_background": "light"
     },
     "output_type": "display_data"
    },
    {
     "data": {
      "image/png": "[encoded data removed]",
      "text/plain": [
       "<Figure size 432x216 with 2 Axes>"
      ]
     },
     "metadata": {
      "needs_background": "light"
     },
     "output_type": "display_data"
    },
    {
     "data": {
      "image/png": "[encoded data removed]",
      "text/plain": [
       "<Figure size 432x216 with 2 Axes>"
      ]
     },
     "metadata": {
      "needs_background": "light"
     },
     "output_type": "display_data"
    },
    {
     "data": {
      "image/png": "[encoded data removed]",
      "text/plain": [
       "<Figure size 432x216 with 2 Axes>"
      ]
     },
     "metadata": {
      "needs_background": "light"
     },
     "output_type": "display_data"
    }
   ],
   "source": [
    "for item_no in [297, 526, 549, 595, 55, 228, 580, 612, 24, 242, 481, 545]:\n",
    "#     print(\"Item number: \", item_no)\n",
    "#     for noise_factor in [0, 0.1, 0.5, 0.75, 1.0, 1.25]:\n",
    "        # reset training data for controlled alteration\n",
    "    noise_factor = 1.0 \n",
    "        # indent starting here \n",
    "    train_images_pp = train_images / 255.0\n",
    "#         noise_factor = 0.5\n",
    "    # alter training data\n",
    "    for i in range(28):\n",
    "        for j in range(28):\n",
    "            if (train_images_pp[item_no, i, j] > 10):\n",
    "                x = ((random.randint(0, 255)) / 255.0)\n",
    "                y = random.randint(0,1)\n",
    "                if (y == 1):\n",
    "                    train_images_pp[item_no, i, j] = train_images_pp[item_no, i, j] + (noise_factor * x)\n",
    "                else:\n",
    "                    train_images_pp[item_no, i, j] = train_images_pp[item_no, i, j] - (noise_factor * x)\n",
    "    #                 if (train_images_pp[item_no, i, j] < 0):\n",
    "    #                     train_images_pp[item_no, i, j] = 0\n",
    "\n",
    "    # retrain model on altered data\n",
    "    model.fit(train_images_pp, train_labels, epochs=1, verbose=0)\n",
    "\n",
    "    # make the prediction\n",
    "    probability_model = tf.keras.Sequential([model, \n",
    "                                         tf.keras.layers.Softmax()])\n",
    "    predictions_tr = probability_model.predict(train_images_pp)\n",
    "\n",
    "    # output result\n",
    "#     print(\"Noise factor: \", noise_factor)\n",
    "    plt.figure(figsize=(6,3))\n",
    "    plt.subplot(1,2,1)\n",
    "    plot_image(item_no, predictions_tr[item_no], train_labels, train_images_pp, class_names)\n",
    "    plt.subplot(1,2,2)\n",
    "    plot_value_array(item_no, predictions_tr[item_no],  train_labels)\n",
    "    plt.show()"
   ]
  },
  {
   "cell_type": "code",
   "execution_count": 16,
   "metadata": {
    "collapsed": true
   },
   "outputs": [
    {
     "name": "stdout",
     "output_type": "stream",
     "text": [
      "Item number:  297\n",
      "Noise factor:  0\n"
     ]
    },
    {
     "data": {
      "image/png": "[encoded data removed]",
      "text/plain": [
       "<Figure size 432x216 with 2 Axes>"
      ]
     },
     "metadata": {
      "needs_background": "light"
     },
     "output_type": "display_data"
    },
    {
     "name": "stdout",
     "output_type": "stream",
     "text": [
      "Item number:  526\n",
      "Noise factor:  0\n"
     ]
    },
    {
     "data": {
      "image/png": "[encoded data removed]",
      "text/plain": [
       "<Figure size 432x216 with 2 Axes>"
      ]
     },
     "metadata": {
      "needs_background": "light"
     },
     "output_type": "display_data"
    },
    {
     "name": "stdout",
     "output_type": "stream",
     "text": [
      "Item number:  549\n",
      "Noise factor:  0\n"
     ]
    },
    {
     "data": {
      "image/png": "[encoded data removed]",
      "text/plain": [
       "<Figure size 432x216 with 2 Axes>"
      ]
     },
     "metadata": {
      "needs_background": "light"
     },
     "output_type": "display_data"
    },
    {
     "name": "stdout",
     "output_type": "stream",
     "text": [
      "Item number:  595\n",
      "Noise factor:  0\n"
     ]
    },
    {
     "data": {
      "image/png": "[encoded data removed]",
      "text/plain": [
       "<Figure size 432x216 with 2 Axes>"
      ]
     },
     "metadata": {
      "needs_background": "light"
     },
     "output_type": "display_data"
    },
    {
     "name": "stdout",
     "output_type": "stream",
     "text": [
      "Item number:  55\n",
      "Noise factor:  0\n"
     ]
    },
    {
     "data": {
      "image/png": "[encoded data removed]",
      "text/plain": [
       "<Figure size 432x216 with 2 Axes>"
      ]
     },
     "metadata": {
      "needs_background": "light"
     },
     "output_type": "display_data"
    },
    {
     "name": "stdout",
     "output_type": "stream",
     "text": [
      "Item number:  228\n",
      "Noise factor:  0\n"
     ]
    },
    {
     "data": {
      "image/png": "[encoded data removed]",
      "text/plain": [
       "<Figure size 432x216 with 2 Axes>"
      ]
     },
     "metadata": {
      "needs_background": "light"
     },
     "output_type": "display_data"
    },
    {
     "name": "stdout",
     "output_type": "stream",
     "text": [
      "Item number:  580\n",
      "Noise factor:  0\n"
     ]
    },
    {
     "data": {
      "image/png": "[encoded data removed]",
      "text/plain": [
       "<Figure size 432x216 with 2 Axes>"
      ]
     },
     "metadata": {
      "needs_background": "light"
     },
     "output_type": "display_data"
    },
    {
     "name": "stdout",
     "output_type": "stream",
     "text": [
      "Item number:  612\n",
      "Noise factor:  0\n"
     ]
    },
    {
     "data": {
      "image/png": "[encoded data removed]",
      "text/plain": [
       "<Figure size 432x216 with 2 Axes>"
      ]
     },
     "metadata": {
      "needs_background": "light"
     },
     "output_type": "display_data"
    },
    {
     "name": "stdout",
     "output_type": "stream",
     "text": [
      "Item number:  24\n",
      "Noise factor:  0\n"
     ]
    },
    {
     "data": {
      "image/png": "[encoded data removed]",
      "text/plain": [
       "<Figure size 432x216 with 2 Axes>"
      ]
     },
     "metadata": {
      "needs_background": "light"
     },
     "output_type": "display_data"
    },
    {
     "name": "stdout",
     "output_type": "stream",
     "text": [
      "Item number:  242\n",
      "Noise factor:  0\n"
     ]
    },
    {
     "data": {
      "image/png": "[encoded data removed]",
      "text/plain": [
       "<Figure size 432x216 with 2 Axes>"
      ]
     },
     "metadata": {
      "needs_background": "light"
     },
     "output_type": "display_data"
    },
    {
     "name": "stdout",
     "output_type": "stream",
     "text": [
      "Item number:  481\n",
      "Noise factor:  0\n"
     ]
    },
    {
     "data": {
      "image/png": "[encoded data removed]",
      "text/plain": [
       "<Figure size 432x216 with 2 Axes>"
      ]
     },
     "metadata": {
      "needs_background": "light"
     },
     "output_type": "display_data"
    },
    {
     "name": "stdout",
     "output_type": "stream",
     "text": [
      "Item number:  545\n",
      "Noise factor:  0\n"
     ]
    },
    {
     "data": {
      "image/png": "[encoded data removed]",
      "text/plain": [
       "<Figure size 432x216 with 2 Axes>"
      ]
     },
     "metadata": {
      "needs_background": "light"
     },
     "output_type": "display_data"
    }
   ],
   "source": [
    "for item_no in [297, 526, 549, 595, 55, 228, 580, 612, 24, 242, 481, 545]:\n",
    "    print(\"Item number: \", item_no)\n",
    "#     for noise_factor in [0, 0.1, 0.5, 0.75, 1.0, 1.25, 1.5, 1.75]:\n",
    "        # reset training data for controlled alteration\n",
    "        \n",
    "    # indent starting here \n",
    "    train_images_pp = train_images / 255.0\n",
    "    noise_factor = 0\n",
    "    # alter training data\n",
    "    for i in range(28):\n",
    "        for j in range(28):\n",
    "            if (train_images_pp[item_no, i, j] > 40):\n",
    "                x = ((random.randint(0, 255)) / 255.0)\n",
    "                y = random.randint(0,1)\n",
    "                if (y == 1):\n",
    "                    train_images_pp[item_no, i, j] = train_images_pp[item_no, i, j] + (noise_factor * x)\n",
    "                else:\n",
    "                    train_images_pp[item_no, i, j] = train_images_pp[item_no, i, j] - (noise_factor * x)\n",
    "#                 if (train_images_pp[item_no, i, j] < 0):\n",
    "#                     train_images_pp[item_no, i, j] = 0\n",
    "\n",
    "    # retrain model on altered data\n",
    "    model.fit(train_images_pp, train_labels, epochs=1, verbose=0)\n",
    "\n",
    "    # make the prediction\n",
    "    probability_model = tf.keras.Sequential([model, \n",
    "                                         tf.keras.layers.Softmax()])\n",
    "    predictions_tr = probability_model.predict(train_images_pp)\n",
    "\n",
    "    # output result\n",
    "    print(\"Noise factor: \", noise_factor)\n",
    "    plt.figure(figsize=(6,3))\n",
    "    plt.subplot(1,2,1)\n",
    "    plot_image(item_no, predictions_tr[item_no], train_labels, train_images_pp, class_names)\n",
    "    plt.subplot(1,2,2)\n",
    "    plot_value_array(item_no, predictions_tr[item_no],  train_labels)\n",
    "    plt.show()"
   ]
  },
  {
   "cell_type": "code",
   "execution_count": 94,
   "metadata": {
    "scrolled": false
   },
   "outputs": [
    {
     "name": "stdout",
     "output_type": "stream",
     "text": [
      "Item number:  297\n",
      "Noise factor:  0\n"
     ]
    },
    {
     "data": {
      "image/png": "[encoded data removed]",
      "text/plain": [
       "<Figure size 432x216 with 2 Axes>"
      ]
     },
     "metadata": {
      "needs_background": "light"
     },
     "output_type": "display_data"
    },
    {
     "name": "stdout",
     "output_type": "stream",
     "text": [
      "Noise factor:  0.1\n"
     ]
    },
    {
     "data": {
      "image/png": "[encoded data removed]",
      "text/plain": [
       "<Figure size 432x216 with 2 Axes>"
      ]
     },
     "metadata": {
      "needs_background": "light"
     },
     "output_type": "display_data"
    },
    {
     "name": "stdout",
     "output_type": "stream",
     "text": [
      "Noise factor:  0.5\n"
     ]
    },
    {
     "data": {
      "image/png": "[encoded data removed]",
      "text/plain": [
       "<Figure size 432x216 with 2 Axes>"
      ]
     },
     "metadata": {
      "needs_background": "light"
     },
     "output_type": "display_data"
    },
    {
     "name": "stdout",
     "output_type": "stream",
     "text": [
      "Noise factor:  0.75\n"
     ]
    },
    {
     "data": {
      "image/png": "[encoded data removed]",
      "text/plain": [
       "<Figure size 432x216 with 2 Axes>"
      ]
     },
     "metadata": {
      "needs_background": "light"
     },
     "output_type": "display_data"
    },
    {
     "name": "stdout",
     "output_type": "stream",
     "text": [
      "Noise factor:  1.0\n"
     ]
    },
    {
     "data": {
      "image/png": "[encoded data removed]",
      "text/plain": [
       "<Figure size 432x216 with 2 Axes>"
      ]
     },
     "metadata": {
      "needs_background": "light"
     },
     "output_type": "display_data"
    },
    {
     "name": "stdout",
     "output_type": "stream",
     "text": [
      "Noise factor:  1.25\n"
     ]
    },
    {
     "data": {
      "image/png": "[encoded data removed]",
      "text/plain": [
       "<Figure size 432x216 with 2 Axes>"
      ]
     },
     "metadata": {
      "needs_background": "light"
     },
     "output_type": "display_data"
    },
    {
     "name": "stdout",
     "output_type": "stream",
     "text": [
      "Noise factor:  1.5\n"
     ]
    },
    {
     "data": {
      "image/png": "[encoded data removed]",
      "text/plain": [
       "<Figure size 432x216 with 2 Axes>"
      ]
     },
     "metadata": {
      "needs_background": "light"
     },
     "output_type": "display_data"
    },
    {
     "name": "stdout",
     "output_type": "stream",
     "text": [
      "Noise factor:  1.75\n"
     ]
    },
    {
     "data": {
      "image/png": "[encoded data removed]",
      "text/plain": [
       "<Figure size 432x216 with 2 Axes>"
      ]
     },
     "metadata": {
      "needs_background": "light"
     },
     "output_type": "display_data"
    }
   ],
   "source": [
    "# og mnist set\n",
    "\n",
    "for item_no in [297]:#, 526, 549, 595, 55, 228, 580, 612, 24, 242, 481, 545]:\n",
    "    print(\"Item number: \", item_no)\n",
    "    for noise_factor in [0, 0.1, 0.5, 0.75, 1.0, 1.25, 1.5, 1.75]:\n",
    "        # reset training data for controlled alteration\n",
    "        \n",
    "    # indent starting here \n",
    "        og_train_images_pp = og_train_images / 255.0\n",
    "#         noise_factor = 1.0\n",
    "        # alter training data\n",
    "        for i in range(28):\n",
    "            for j in range(28):\n",
    "                if (og_train_images_pp[item_no, i, j] > 40):\n",
    "                    x = ((random.randint(0, 255)) / 255.0)\n",
    "                    y = random.randint(0,1)\n",
    "                    if (y == 1):\n",
    "                        og_train_images_pp[item_no, i, j] = og_train_images_pp[item_no, i, j] + (noise_factor * x)\n",
    "                    else:\n",
    "                        og_train_images_pp[item_no, i, j] = og_train_images_pp[item_no, i, j] - (noise_factor * x)\n",
    "    #                 if (train_images_pp[item_no, i, j] < 0):\n",
    "    #                     train_images_pp[item_no, i, j] = 0\n",
    "\n",
    "        # retrain model on altered data\n",
    "        og_model.fit(og_train_images_pp, og_train_labels, epochs=1, verbose=0)\n",
    "\n",
    "        # make the prediction\n",
    "        probability_model = tf.keras.Sequential([og_model, \n",
    "                                             tf.keras.layers.Softmax()])\n",
    "        predictions_tr = probability_model.predict(og_train_images_pp)\n",
    "\n",
    "        # output result\n",
    "        print(\"Noise factor: \", noise_factor)\n",
    "        plt.figure(figsize=(6,3))\n",
    "        plt.subplot(1,2,1)\n",
    "        plot_image(item_no, predictions_tr[item_no], og_train_labels, og_train_images_pp, og_class_names)\n",
    "        plt.subplot(1,2,2)\n",
    "        plot_value_array(item_no, predictions_tr[item_no],  og_train_labels)\n",
    "        plt.show()"
   ]
  },
  {
   "cell_type": "code",
   "execution_count": 26,
   "metadata": {},
   "outputs": [],
   "source": [
    "kannad_mnist = np.genfromtxt('Kannada-MNIST/train.csv', delimiter=',')"
   ]
  },
  {
   "cell_type": "code",
   "execution_count": 33,
   "metadata": {},
   "outputs": [
    {
     "data": {
      "text/plain": [
       "(60001, 785)"
      ]
     },
     "execution_count": 33,
     "metadata": {},
     "output_type": "execute_result"
    }
   ],
   "source": [
    "kannad_mnist.shape"
   ]
  },
  {
   "cell_type": "code",
   "execution_count": 83,
   "metadata": {},
   "outputs": [],
   "source": [
    "kannad_test = np.genfromtxt('Kannada-MNIST/test.csv', delimiter=',')"
   ]
  },
  {
   "cell_type": "code",
   "execution_count": 59,
   "metadata": {},
   "outputs": [],
   "source": [
    "km_train_images = []\n",
    "km_train_labels = []\n",
    "new_image_row = []\n",
    "new_image = []\n",
    "\n",
    "row = 0\n",
    "col = 0\n",
    "for sample_no in range(60001):\n",
    "    if (sample_no != 0):\n",
    "        for i in range(785):\n",
    "            if (i == 0):\n",
    "                km_train_labels.append((int)(kannad_mnist[sample_no][i]))\n",
    "            else:\n",
    "                if (col < 28):\n",
    "                    new_image_row.append(kannad_mnist[sample_no][i])\n",
    "                else:\n",
    "                    new_image.append(new_image_row)\n",
    "                    col = 0\n",
    "                    row = row+1\n",
    "                    new_image_row = []\n",
    "                    new_image_row.append(kannad_mnist[sample_no][i])\n",
    "                col = col+1\n",
    "        new_image.append(new_image_row)\n",
    "        km_train_images.append(new_image)\n",
    "        new_image_row = []\n",
    "        new_image = []\n",
    "        row = 0\n",
    "        col = 0\n",
    "km_train_images = np.array(km_train_images)\n",
    "km_train_labels = np.array(km_train_labels)"
   ]
  },
  {
   "cell_type": "code",
   "execution_count": 87,
   "metadata": {},
   "outputs": [],
   "source": [
    "km_test_images = []\n",
    "new_image_row = []\n",
    "new_image = []\n",
    "\n",
    "row = 0\n",
    "col = 0\n",
    "for sample_no in range(5000):\n",
    "    if (sample_no != 0):\n",
    "        for i in range(785):\n",
    "            if (i != 0):\n",
    "                if (col < 28):\n",
    "                    new_image_row.append(kannad_test[sample_no][i])\n",
    "                else:\n",
    "                    new_image.append(new_image_row)\n",
    "                    col = 0\n",
    "                    row = row+1\n",
    "                    new_image_row = []\n",
    "                    new_image_row.append(kannad_test[sample_no][i])\n",
    "                col = col+1\n",
    "        new_image.append(new_image_row)\n",
    "        km_test_images.append(new_image)\n",
    "        new_image_row = []\n",
    "        new_image = []\n",
    "        row = 0\n",
    "        col = 0\n",
    "km_test_images = np.array(km_test_images)"
   ]
  },
  {
   "cell_type": "code",
   "execution_count": 56,
   "metadata": {},
   "outputs": [
    {
     "data": {
      "text/plain": [
       "(60000, 28, 28)"
      ]
     },
     "execution_count": 56,
     "metadata": {},
     "output_type": "execute_result"
    }
   ],
   "source": [
    "km_train_images_pp = km_train_images / 255.0\n",
    "km_train_images.shape"
   ]
  },
  {
   "cell_type": "code",
   "execution_count": 88,
   "metadata": {},
   "outputs": [
    {
     "data": {
      "text/plain": [
       "(4999, 28, 28)"
      ]
     },
     "execution_count": 88,
     "metadata": {},
     "output_type": "execute_result"
    }
   ],
   "source": [
    "km_test_images_pp = km_test_images / 255.0\n",
    "km_test_images_pp.shape"
   ]
  },
  {
   "cell_type": "code",
   "execution_count": 57,
   "metadata": {},
   "outputs": [
    {
     "data": {
      "text/plain": [
       "<tensorflow.python.keras.callbacks.History at 0x16f0f16fc48>"
      ]
     },
     "execution_count": 57,
     "metadata": {},
     "output_type": "execute_result"
    }
   ],
   "source": [
    "km_model = tf.keras.Sequential([\n",
    "    tf.keras.layers.Flatten(input_shape=(28, 28)),\n",
    "    tf.keras.layers.Dense(128, activation='relu'),\n",
    "    tf.keras.layers.Dense(10)\n",
    "])\n",
    "km_model.compile(optimizer='adam',\n",
    "              loss=tf.keras.losses.SparseCategoricalCrossentropy(from_logits=True),\n",
    "              metrics=['accuracy'])\n",
    "km_model.fit(km_train_images_pp, km_train_labels, epochs=10, verbose=0)\n",
    "\n",
    "# print('\\n')\n",
    "# test_loss, test_acc = og_model.evaluate(og_test_images_pp,  og_test_labels, verbose=2)\n",
    "\n",
    "# print('\\nTest accuracy:', test_acc)"
   ]
  },
  {
   "cell_type": "code",
   "execution_count": 93,
   "metadata": {
    "scrolled": false
   },
   "outputs": [
    {
     "name": "stdout",
     "output_type": "stream",
     "text": [
      "Item number:  297\n",
      "Noise factor:  0\n"
     ]
    },
    {
     "data": {
      "image/png": "[encoded data removed]",
      "text/plain": [
       "<Figure size 432x216 with 2 Axes>"
      ]
     },
     "metadata": {
      "needs_background": "light"
     },
     "output_type": "display_data"
    },
    {
     "name": "stdout",
     "output_type": "stream",
     "text": [
      "Noise factor:  0.1\n"
     ]
    },
    {
     "data": {
      "image/png": "[encoded data removed]",
      "text/plain": [
       "<Figure size 432x216 with 2 Axes>"
      ]
     },
     "metadata": {
      "needs_background": "light"
     },
     "output_type": "display_data"
    },
    {
     "name": "stdout",
     "output_type": "stream",
     "text": [
      "Noise factor:  0.5\n"
     ]
    },
    {
     "data": {
      "image/png": "[encoded data removed]",
      "text/plain": [
       "<Figure size 432x216 with 2 Axes>"
      ]
     },
     "metadata": {
      "needs_background": "light"
     },
     "output_type": "display_data"
    },
    {
     "name": "stdout",
     "output_type": "stream",
     "text": [
      "Noise factor:  0.75\n"
     ]
    },
    {
     "data": {
      "image/png": "[encoded data removed]",
      "text/plain": [
       "<Figure size 432x216 with 2 Axes>"
      ]
     },
     "metadata": {
      "needs_background": "light"
     },
     "output_type": "display_data"
    },
    {
     "name": "stdout",
     "output_type": "stream",
     "text": [
      "Noise factor:  1.0\n"
     ]
    },
    {
     "data": {
      "image/png": "[encoded data removed]",
      "text/plain": [
       "<Figure size 432x216 with 2 Axes>"
      ]
     },
     "metadata": {
      "needs_background": "light"
     },
     "output_type": "display_data"
    },
    {
     "name": "stdout",
     "output_type": "stream",
     "text": [
      "Noise factor:  1.25\n"
     ]
    },
    {
     "data": {
      "image/png": "[encoded data removed]",
      "text/plain": [
       "<Figure size 432x216 with 2 Axes>"
      ]
     },
     "metadata": {
      "needs_background": "light"
     },
     "output_type": "display_data"
    }
   ],
   "source": [
    "# kannada mnist set\n",
    "\n",
    "for item_no in [297]:#, 526, 549, 595, 55, 228, 580, 612, 24, 242, 481, 545]:\n",
    "    print(\"Item number: \", item_no)\n",
    "    for noise_factor in [0, 0.1, 0.5, 0.75, 1.0, 1.25]:\n",
    "        # reset training data for controlled alteration\n",
    "        \n",
    "    # indent starting here \n",
    "        km_train_images_pp = km_train_images / 255.0\n",
    "    #     noise_factor = 1.0\n",
    "        # alter training data\n",
    "        for i in range(28):\n",
    "            for j in range(28):\n",
    "                if (km_train_images_pp[item_no, i, j] > 40):\n",
    "                    x = ((random.randint(0, 255)) / 255.0)\n",
    "                    y = random.randint(0,1)\n",
    "                    if (y == 1):\n",
    "                        km_train_images_pp[item_no, i, j] = km_train_images_pp[item_no, i, j] + (noise_factor * x)\n",
    "                    else:\n",
    "                        km_train_images_pp[item_no, i, j] = km_train_images_pp[item_no, i, j] - (noise_factor * x)\n",
    "    #                 if (train_images_pp[item_no, i, j] < 0):\n",
    "    #                     train_images_pp[item_no, i, j] = 0\n",
    "\n",
    "        # retrain model on altered data\n",
    "        km_model.fit(km_train_images_pp, km_train_labels, epochs=1, verbose=0)\n",
    "\n",
    "        # make the prediction\n",
    "        probability_model = tf.keras.Sequential([km_model, \n",
    "                                             tf.keras.layers.Softmax()])\n",
    "        predictions_tr = probability_model.predict(km_train_images_pp)\n",
    "\n",
    "        # output result\n",
    "        print(\"Noise factor: \", noise_factor)\n",
    "        plt.figure(figsize=(6,3))\n",
    "        plt.subplot(1,2,1)\n",
    "        plot_image(item_no, predictions_tr[item_no], km_train_labels, km_train_images_pp, og_class_names)\n",
    "        plt.subplot(1,2,2)\n",
    "        plot_value_array(item_no, predictions_tr[item_no],  km_train_labels)\n",
    "        plt.show()"
   ]
  },
  {
   "cell_type": "code",
   "execution_count": 80,
   "metadata": {},
   "outputs": [],
   "source": [
    "km_train_images_pp = km_train_images / 255.0\n",
    "km_model.fit(km_train_images_pp, km_train_labels, epochs=1, verbose=0)\n",
    "\n",
    "km_item_list = []\n",
    "\n",
    "# make the prediction\n",
    "probability_model = tf.keras.Sequential([km_model, \n",
    "                                     tf.keras.layers.Softmax()])\n",
    "predictions_tr = probability_model.predict(km_train_images_pp)\n",
    "for item_no in range(60000):\n",
    "    if (max(predictions_tr[item_no]) != 1.0):\n",
    "        km_item_list.append(item_no)\n",
    "km_item_list = np.array(km_item_list)"
   ]
  },
  {
   "cell_type": "code",
   "execution_count": 81,
   "metadata": {},
   "outputs": [
    {
     "data": {
      "text/plain": [
       "(1955,)"
      ]
     },
     "execution_count": 81,
     "metadata": {},
     "output_type": "execute_result"
    }
   ],
   "source": [
    "km_item_list.shape"
   ]
  },
  {
   "cell_type": "code",
   "execution_count": 82,
   "metadata": {
    "collapsed": true
   },
   "outputs": [
    {
     "name": "stdout",
     "output_type": "stream",
     "text": [
      "0.9999913\n",
      "0.9999999\n",
      "0.9999999\n",
      "0.9999993\n",
      "0.9999994\n",
      "0.9999999\n",
      "0.99999726\n",
      "0.999998\n",
      "0.9999964\n",
      "0.9999908\n",
      "0.9999999\n",
      "0.9999989\n",
      "0.99999964\n",
      "0.99999976\n",
      "0.99999654\n",
      "0.9999999\n",
      "0.9999999\n",
      "0.99999976\n",
      "0.99999917\n",
      "0.9999995\n",
      "0.99997604\n",
      "0.9999989\n",
      "0.99999976\n",
      "0.9999999\n",
      "0.9999976\n",
      "0.9999939\n",
      "0.9999999\n",
      "0.9999007\n",
      "0.99999976\n",
      "0.9999739\n",
      "0.999998\n",
      "0.9999876\n",
      "0.99999654\n",
      "0.9999989\n",
      "0.99999833\n",
      "0.99999523\n",
      "0.99999976\n",
      "0.99999976\n",
      "0.9999999\n",
      "0.99999964\n",
      "0.9999883\n",
      "0.99999976\n",
      "0.9999999\n",
      "0.9999999\n",
      "0.99999964\n",
      "0.9999999\n",
      "0.9999927\n",
      "0.99999857\n",
      "0.9999994\n",
      "0.9999999\n",
      "0.9999422\n",
      "0.9999889\n",
      "0.9999999\n",
      "0.9999857\n",
      "0.9999999\n",
      "0.99998736\n",
      "0.9999999\n",
      "0.9999609\n",
      "0.9999994\n",
      "0.99999845\n",
      "0.99995995\n",
      "0.9999976\n",
      "0.99999785\n",
      "0.9999918\n",
      "0.99999976\n",
      "0.9999982\n",
      "0.99999475\n",
      "0.99999917\n",
      "0.9999914\n",
      "0.99999976\n",
      "0.9999999\n",
      "0.9999082\n",
      "0.9999703\n",
      "0.99999976\n",
      "0.99999917\n",
      "0.99999654\n",
      "0.9999987\n",
      "0.9999999\n",
      "0.99999285\n",
      "0.99999976\n",
      "0.99999785\n",
      "0.99970716\n",
      "0.9999999\n",
      "0.9999517\n",
      "0.9999622\n",
      "0.9999713\n",
      "0.9999994\n",
      "0.99999917\n",
      "0.99999917\n",
      "0.99997914\n",
      "0.999974\n",
      "0.9999753\n",
      "0.9999994\n",
      "0.99999976\n",
      "0.9999994\n",
      "0.99999595\n",
      "0.99999774\n",
      "0.99999845\n",
      "0.9999994\n",
      "0.99999905\n",
      "0.9997749\n",
      "0.9999993\n",
      "0.99999976\n",
      "0.9998827\n",
      "0.99999607\n",
      "0.9999492\n",
      "0.99998987\n",
      "0.99999976\n",
      "0.9997944\n",
      "0.99999833\n",
      "0.99999976\n",
      "0.9999999\n",
      "0.9999999\n",
      "0.9999243\n",
      "0.9999862\n",
      "0.99999976\n",
      "0.99991214\n",
      "0.99999976\n",
      "0.99999976\n",
      "0.999998\n",
      "0.9999887\n",
      "0.99999905\n",
      "0.9999713\n",
      "0.99991846\n",
      "0.9999999\n",
      "0.9999999\n",
      "0.9999999\n",
      "0.9999999\n",
      "0.99999976\n",
      "0.9999999\n",
      "0.99999654\n",
      "0.9999994\n",
      "0.9999676\n",
      "0.9999993\n",
      "0.9999999\n",
      "0.9999999\n",
      "0.9999857\n",
      "0.9999958\n",
      "0.9999999\n",
      "0.99999857\n",
      "0.9999999\n",
      "0.99998844\n",
      "0.9999994\n",
      "0.9999999\n",
      "0.9999999\n",
      "0.99989355\n",
      "0.9999999\n",
      "0.9998987\n",
      "0.9999999\n",
      "0.9999976\n",
      "0.9999994\n",
      "0.9999999\n",
      "0.9999962\n",
      "0.9999945\n",
      "0.99999905\n",
      "0.9999726\n",
      "0.9998528\n",
      "0.9999393\n",
      "0.9999968\n",
      "0.9999182\n",
      "0.9999995\n",
      "0.9999957\n",
      "0.99999976\n",
      "0.9999949\n",
      "0.9999982\n",
      "0.9999993\n",
      "0.99999595\n",
      "0.99999976\n",
      "0.9999999\n",
      "0.9999796\n",
      "0.9999882\n",
      "0.99999917\n",
      "0.99999595\n",
      "0.9999999\n",
      "0.9999963\n",
      "0.9999999\n",
      "0.99999964\n",
      "0.9999999\n",
      "0.9999989\n",
      "0.9999999\n",
      "0.9998053\n",
      "0.99999976\n",
      "0.9999956\n",
      "0.99999607\n",
      "0.9999995\n",
      "0.9999995\n",
      "0.99999154\n",
      "0.9999982\n",
      "0.9999999\n",
      "0.9999999\n",
      "0.99999833\n",
      "0.9999999\n",
      "0.99998856\n",
      "0.9999999\n",
      "0.9999999\n",
      "0.99999964\n",
      "0.9999999\n",
      "0.99999964\n",
      "0.9999999\n",
      "0.9999999\n",
      "0.9999708\n",
      "0.9999789\n",
      "0.9999782\n",
      "0.99998903\n",
      "0.99999917\n",
      "0.9999968\n",
      "0.9999926\n",
      "0.9999995\n",
      "0.9999933\n",
      "0.9999987\n",
      "0.99999857\n",
      "0.9999999\n",
      "0.9999999\n",
      "0.99999356\n",
      "0.9999995\n",
      "0.9999999\n",
      "0.9999925\n",
      "0.99999535\n",
      "0.9999999\n",
      "0.9999999\n",
      "0.99999976\n",
      "0.99999774\n",
      "0.9999994\n",
      "0.99999976\n",
      "0.9999999\n",
      "0.99999976\n",
      "0.9996101\n",
      "0.9999999\n",
      "0.9999999\n",
      "0.9999943\n",
      "0.9999995\n",
      "0.9999894\n",
      "0.99998295\n",
      "0.9999815\n",
      "0.9999751\n",
      "0.99999774\n",
      "0.9999999\n",
      "0.99999917\n",
      "0.99999976\n",
      "0.99999833\n",
      "0.9999999\n",
      "0.99999857\n",
      "0.9999999\n",
      "0.9999906\n",
      "0.9999999\n",
      "0.9999963\n",
      "0.99999964\n",
      "0.9998086\n",
      "0.99965024\n",
      "0.9999987\n",
      "0.99999964\n",
      "0.9999999\n",
      "0.9999995\n",
      "0.99999964\n",
      "0.9999999\n",
      "0.99998784\n",
      "0.99997723\n",
      "0.9999466\n",
      "0.9999994\n",
      "0.9999994\n",
      "0.99999917\n",
      "0.9999982\n",
      "0.9999999\n",
      "0.9998896\n",
      "0.9999989\n",
      "0.99999976\n",
      "0.9999583\n",
      "0.99999714\n",
      "0.99999964\n",
      "0.99987125\n",
      "0.99999464\n",
      "0.99999964\n",
      "0.99999964\n",
      "0.9999999\n",
      "0.9999603\n",
      "0.9999999\n",
      "0.99999976\n",
      "0.99999976\n",
      "0.99996376\n",
      "0.9998838\n",
      "0.9999999\n",
      "0.9999994\n",
      "0.99999404\n",
      "0.99999714\n",
      "0.9999995\n",
      "0.99999964\n",
      "0.9999995\n",
      "0.9999794\n",
      "0.9999727\n",
      "0.9999993\n",
      "0.9999976\n",
      "0.9999906\n",
      "0.99999976\n",
      "0.99999976\n",
      "0.9999999\n",
      "0.9999999\n",
      "0.99999535\n",
      "0.9999999\n",
      "0.99999905\n",
      "0.9999944\n",
      "0.99996257\n",
      "0.99999166\n",
      "0.99995947\n",
      "0.99999976\n",
      "0.99995136\n",
      "0.9999995\n",
      "0.99996066\n",
      "0.99994683\n",
      "0.9999999\n",
      "0.9999999\n",
      "0.9999993\n",
      "0.99999964\n",
      "0.9999994\n",
      "0.9999999\n",
      "0.9999987\n",
      "0.99999857\n",
      "0.99999964\n",
      "0.999874\n",
      "0.99999917\n",
      "0.99999976\n",
      "0.9999999\n",
      "0.9999999\n",
      "0.999998\n",
      "0.99999976\n",
      "0.9999995\n",
      "0.9999981\n",
      "0.9999999\n",
      "0.9999995\n",
      "0.99995387\n",
      "0.99999475\n",
      "0.99999976\n",
      "0.9999999\n",
      "0.9999999\n",
      "0.9999994\n",
      "0.9999999\n",
      "0.9999999\n",
      "0.99999964\n",
      "0.9998956\n",
      "0.9999999\n",
      "0.9997247\n",
      "0.9999999\n",
      "0.99999917\n",
      "0.9999994\n",
      "0.9999646\n",
      "0.99999976\n",
      "0.9999939\n",
      "0.99999964\n",
      "0.99999595\n",
      "0.9999999\n",
      "0.9999999\n",
      "0.9999989\n",
      "0.9999989\n",
      "0.9997032\n",
      "0.9999976\n",
      "0.99999976\n",
      "0.9999999\n",
      "0.9999497\n",
      "0.9999995\n",
      "0.9999999\n",
      "0.99999845\n",
      "0.9999994\n",
      "0.99999654\n",
      "0.9999999\n",
      "0.9999999\n",
      "0.9999999\n",
      "0.99999964\n",
      "0.9999999\n",
      "0.999998\n",
      "0.99999964\n",
      "0.9999802\n",
      "0.99999917\n",
      "0.99999976\n",
      "0.99999964\n",
      "0.9999999\n",
      "0.99999976\n",
      "0.9999999\n",
      "0.99999976\n",
      "0.9999653\n",
      "0.9999999\n",
      "0.99999964\n",
      "0.9999875\n",
      "0.99991596\n",
      "0.99999714\n",
      "0.9999969\n",
      "0.9999995\n",
      "0.9996835\n",
      "0.9999981\n",
      "0.9999994\n",
      "0.99998474\n",
      "0.9999999\n",
      "0.9999373\n",
      "0.9999995\n",
      "0.9999987\n",
      "0.9999999\n",
      "0.9999994\n",
      "0.9999999\n",
      "0.9999976\n",
      "0.999984\n",
      "0.9999993\n",
      "0.9999999\n",
      "0.9999995\n",
      "0.9998584\n",
      "0.9999995\n",
      "0.9998267\n",
      "0.9999987\n",
      "0.99999154\n",
      "0.99999976\n",
      "0.9999862\n",
      "0.9999999\n",
      "0.9999999\n",
      "0.99999976\n",
      "0.99999905\n",
      "0.9999999\n",
      "0.9999943\n",
      "0.99985003\n",
      "0.9999987\n",
      "0.99999976\n",
      "0.9999999\n",
      "0.9999863\n",
      "0.9999887\n",
      "0.99999905\n",
      "0.9999995\n",
      "0.9999993\n",
      "0.99996996\n",
      "0.9999113\n",
      "0.9999964\n",
      "0.99999976\n",
      "0.99953675\n",
      "0.9999962\n",
      "0.9999937\n",
      "0.9999999\n",
      "0.9999999\n",
      "0.9999944\n",
      "0.9999856\n",
      "0.9999999\n",
      "0.999998\n",
      "0.9999958\n",
      "0.99999774\n",
      "0.99999976\n",
      "0.9999993\n",
      "0.9999999\n",
      "0.9999999\n",
      "0.9999995\n",
      "0.9999938\n",
      "0.9999994\n",
      "0.9999999\n",
      "0.99999917\n",
      "0.99999905\n",
      "0.9999995\n",
      "0.9999999\n",
      "0.99999726\n",
      "0.9999999\n",
      "0.9999999\n",
      "0.9999982\n",
      "0.9999869\n",
      "0.9999995\n",
      "0.9999999\n",
      "0.99960464\n",
      "0.9999999\n",
      "0.9999999\n",
      "0.9999999\n",
      "0.9999987\n",
      "0.99999917\n",
      "0.9999999\n",
      "0.99983597\n",
      "0.9999999\n",
      "0.9999999\n",
      "0.9999969\n",
      "0.9999999\n",
      "0.9999999\n",
      "0.9999987\n",
      "0.99999416\n",
      "0.9999888\n",
      "0.9999999\n",
      "0.9999982\n",
      "0.9999999\n",
      "0.99999726\n",
      "0.99999106\n",
      "0.9999999\n",
      "0.99999976\n",
      "0.99999964\n",
      "0.9999988\n",
      "0.9999993\n",
      "0.99990106\n",
      "0.99999976\n",
      "0.9999976\n",
      "0.999485\n",
      "0.9999871\n",
      "0.99999964\n",
      "0.99999964\n",
      "0.99999595\n",
      "0.9999999\n",
      "0.9999987\n",
      "0.9999999\n",
      "0.9999999\n",
      "0.99998\n",
      "0.9999999\n",
      "0.99999857\n",
      "0.99999714\n",
      "0.9999987\n",
      "0.99999225\n",
      "0.99999285\n",
      "0.9999987\n",
      "0.99999917\n",
      "0.99998283\n",
      "0.9999999\n",
      "0.9999999\n",
      "0.99999976\n",
      "0.9999994\n",
      "0.9999722\n",
      "0.9999994\n",
      "0.99999964\n",
      "0.99999595\n",
      "0.99999475\n",
      "0.9999999\n",
      "0.9999999\n",
      "0.9999995\n",
      "0.9999434\n",
      "0.99999785\n",
      "0.999461\n",
      "0.99999964\n",
      "0.9999999\n",
      "0.9999999\n",
      "0.9999993\n",
      "0.9999877\n",
      "0.9999999\n",
      "0.9999999\n",
      "0.9999999\n",
      "0.9999999\n",
      "0.99999547\n",
      "0.9999969\n",
      "0.9999523\n",
      "0.99999547\n",
      "0.99998987\n",
      "0.9999995\n",
      "0.9993882\n",
      "0.9999989\n",
      "0.99999976\n",
      "0.99999964\n",
      "0.99999297\n",
      "0.9999999\n",
      "0.9999964\n",
      "0.9999995\n",
      "0.99998844\n",
      "0.9999982\n",
      "0.99999905\n",
      "0.99999857\n",
      "0.99999964\n",
      "0.9999958\n",
      "0.99999976\n",
      "0.9999976\n",
      "0.99999905\n",
      "0.9999999\n",
      "0.99999905\n",
      "0.9999999\n",
      "0.99999964\n",
      "0.9999993\n",
      "0.99999917\n",
      "0.99999857\n",
      "0.9999106\n",
      "0.99999857\n",
      "0.9999999\n",
      "0.9999993\n",
      "0.9999987\n",
      "0.9999807\n",
      "0.9999949\n",
      "0.99998474\n",
      "0.99999917\n",
      "0.9999846\n",
      "0.99998724\n",
      "0.9999987\n",
      "0.9999999\n",
      "0.9999999\n",
      "0.9999994\n",
      "0.9999864\n",
      "0.9999999\n",
      "0.99999976\n",
      "0.99999\n",
      "0.9999579\n",
      "0.9999999\n",
      "0.9999995\n",
      "0.9999831\n",
      "0.99999976\n",
      "0.9999999\n",
      "0.9999536\n",
      "0.99998844\n",
      "0.99999833\n",
      "0.99999964\n",
      "0.99999976\n",
      "0.9999951\n",
      "0.9998816\n",
      "0.9999988\n",
      "0.9999994\n",
      "0.99998915\n",
      "0.9999995\n",
      "0.9999999\n",
      "0.9999989\n",
      "0.99999857\n",
      "0.9999999\n",
      "0.9999999\n",
      "0.9999999\n",
      "0.99999857\n",
      "0.99999666\n",
      "0.99999976\n",
      "0.9999995\n",
      "0.99999905\n",
      "0.9999999\n",
      "0.9999988\n",
      "0.99999976\n",
      "0.9998913\n",
      "0.9999987\n",
      "0.9999924\n",
      "0.9999999\n",
      "0.9999995\n",
      "0.9999118\n",
      "0.9999944\n",
      "0.9999982\n",
      "0.9999988\n",
      "0.9999902\n",
      "0.9999994\n",
      "0.99999905\n",
      "0.999998\n",
      "0.9999995\n",
      "0.99999607\n",
      "0.9999639\n",
      "0.9999999\n",
      "0.9999999\n",
      "0.99999964\n",
      "0.9999999\n",
      "0.9999957\n",
      "0.9999914\n",
      "0.99999857\n",
      "0.9999999\n",
      "0.9999999\n",
      "0.9999999\n",
      "0.9999999\n",
      "0.99999964\n",
      "0.9999584\n",
      "0.99997413\n",
      "0.9999517\n",
      "0.9999441\n",
      "0.9999995\n",
      "0.9999981\n",
      "0.9998216\n",
      "0.9999974\n",
      "0.9999999\n",
      "0.9999999\n",
      "0.9999944\n",
      "0.999998\n",
      "0.9999999\n",
      "0.9999994\n",
      "0.9999813\n",
      "0.99997866\n",
      "0.99999976\n",
      "0.9999999\n",
      "0.99999976\n",
      "0.9999989\n",
      "0.9999957\n",
      "0.9999995\n",
      "0.9999913\n",
      "0.99999607\n",
      "0.9999964\n",
      "0.9999933\n",
      "0.99999964\n",
      "0.9999981\n",
      "0.99999964\n",
      "0.9999975\n",
      "0.9999999\n",
      "0.9999999\n",
      "0.9999999\n",
      "0.9999999\n",
      "0.99995124\n",
      "0.9999999\n",
      "0.99999833\n",
      "0.9999987\n",
      "0.99999416\n",
      "0.99999857\n",
      "0.99999964\n",
      "0.99999917\n",
      "0.9999999\n",
      "0.9999994\n",
      "0.9999995\n",
      "0.9999993\n",
      "0.99999833\n",
      "0.99999917\n",
      "0.99999964\n",
      "0.9999764\n",
      "0.9999999\n",
      "0.99998796\n",
      "0.99999225\n",
      "0.9999999\n",
      "0.9999999\n",
      "0.9999757\n",
      "0.99999964\n",
      "0.9999994\n",
      "0.99999976\n",
      "0.99999964\n",
      "0.99999833\n",
      "0.9999993\n",
      "0.9999993\n",
      "0.99999535\n",
      "0.99998903\n",
      "0.9999999\n",
      "0.9999995\n",
      "0.99999356\n",
      "0.99998415\n",
      "0.9999993\n",
      "0.9999932\n",
      "0.9999908\n",
      "0.99999976\n",
      "0.99992037\n",
      "0.9999995\n",
      "0.99999976\n",
      "0.9999994\n",
      "0.9999937\n",
      "0.99999976\n",
      "0.9999999\n",
      "0.9999999\n",
      "0.9999999\n",
      "0.99999416\n",
      "0.99999607\n",
      "0.99999976\n",
      "0.9999995\n",
      "0.9999987\n",
      "0.9999968\n",
      "0.9999988\n",
      "0.9999994\n",
      "0.99999857\n",
      "0.9999993\n",
      "0.9999999\n",
      "0.9999999\n",
      "0.99999917\n",
      "0.9999989\n",
      "0.9999993\n",
      "0.9999999\n",
      "0.9999999\n",
      "0.9999999\n",
      "0.9999826\n",
      "0.9999994\n",
      "0.99994457\n",
      "0.9999969\n",
      "0.9999995\n",
      "0.99999976\n",
      "0.9999999\n",
      "0.99999285\n",
      "0.9999957\n",
      "0.9999987\n",
      "0.99998176\n",
      "0.9995956\n",
      "0.9999999\n",
      "0.9999999\n",
      "0.9999697\n",
      "0.9999999\n",
      "0.9999994\n",
      "0.9999999\n",
      "0.99977034\n",
      "0.9999883\n",
      "0.9999994\n",
      "0.9999994\n",
      "0.99999964\n",
      "0.99999607\n",
      "0.99998903\n",
      "0.9999999\n",
      "0.9999995\n",
      "0.9999999\n",
      "0.9999995\n",
      "0.9999999\n",
      "0.9999988\n",
      "0.9999999\n",
      "0.9999999\n",
      "0.9999832\n",
      "0.9999951\n",
      "0.9997725\n",
      "0.99999905\n",
      "0.99999917\n",
      "0.9999981\n",
      "0.9999995\n",
      "0.99999666\n",
      "0.99994576\n",
      "0.9999993\n",
      "0.9999974\n",
      "0.99999976\n",
      "0.9999999\n",
      "0.99999595\n",
      "0.99999976\n",
      "0.99999046\n",
      "0.9999907\n",
      "0.99999976\n",
      "0.9999976\n",
      "0.99999917\n",
      "0.9998134\n",
      "0.9999999\n",
      "0.9999596\n",
      "0.9999994\n",
      "0.9999678\n",
      "0.9999999\n",
      "0.9999999\n",
      "0.9999945\n",
      "0.999998\n",
      "0.99992883\n",
      "0.99999976\n",
      "0.99999976\n",
      "0.99999964\n",
      "0.99999285\n",
      "0.99999976\n",
      "0.9999863\n",
      "0.99999917\n",
      "0.99999917\n",
      "0.9999999\n",
      "0.999995\n",
      "0.9999931\n",
      "0.9999963\n",
      "0.9999987\n",
      "0.99999654\n",
      "0.9999999\n",
      "0.99999964\n",
      "0.99999976\n",
      "0.99999964\n",
      "0.9999995\n",
      "0.99999976\n",
      "0.9999999\n",
      "0.9999999\n",
      "0.99998796\n",
      "0.9999999\n",
      "0.9999999\n",
      "0.9999974\n",
      "0.9999999\n",
      "0.9999542\n",
      "0.9999943\n",
      "0.9999999\n",
      "0.99999964\n",
      "0.99993634\n",
      "0.9999999\n",
      "0.99999654\n",
      "0.9999999\n",
      "0.99998903\n",
      "0.9999981\n",
      "0.99999976\n",
      "0.9999999\n",
      "0.99999964\n",
      "0.9999999\n",
      "0.9999999\n",
      "0.9999982\n",
      "0.9999999\n",
      "0.9999999\n",
      "0.99995875\n",
      "0.99999976\n",
      "0.9999994\n",
      "0.9999999\n",
      "0.99999595\n",
      "0.99999714\n",
      "0.99999964\n",
      "0.99999964\n",
      "0.9999999\n",
      "0.99998474\n",
      "0.9999988\n",
      "0.99999976\n",
      "0.99999964\n",
      "0.9999999\n",
      "0.99999774\n",
      "0.9999999\n",
      "0.9999994\n",
      "0.99996996\n",
      "0.9999999\n",
      "0.9999999\n",
      "0.99999774\n",
      "0.9999999\n",
      "0.9999976\n",
      "0.99999964\n",
      "0.9999951\n",
      "0.99998415\n",
      "0.99999356\n",
      "0.9999999\n",
      "0.999997\n",
      "0.99999964\n",
      "0.99999774\n",
      "0.99999964\n",
      "0.99996483\n",
      "0.9999999\n",
      "0.9999994\n",
      "0.9999895\n",
      "0.9999666\n",
      "0.99999404\n",
      "0.9999858\n",
      "0.999962\n",
      "0.9999987\n",
      "0.99999785\n",
      "0.9999702\n",
      "0.9999999\n",
      "0.9999999\n",
      "0.99999607\n",
      "0.99999976\n",
      "0.9999994\n",
      "0.9999975\n",
      "0.99994814\n",
      "0.999998\n",
      "0.9999745\n",
      "0.99999666\n",
      "0.999954\n",
      "0.99995303\n",
      "0.99999964\n",
      "0.9999999\n",
      "0.9999994\n",
      "0.9999999\n",
      "0.99999726\n",
      "0.9999999\n",
      "0.99999094\n",
      "0.9999999\n",
      "0.99999547\n",
      "0.99999964\n",
      "0.99999416\n",
      "0.99999726\n",
      "0.9999994\n",
      "0.999908\n",
      "0.9999502\n",
      "0.9999033\n",
      "0.99999964\n",
      "0.99999964\n",
      "0.9999999\n",
      "0.99999976\n",
      "0.99999833\n",
      "0.99996984\n",
      "0.99999464\n",
      "0.99999976\n",
      "0.9999988\n",
      "0.9999306\n",
      "0.9999999\n",
      "0.9999995\n",
      "0.9999981\n",
      "0.99999976\n",
      "0.9999962\n",
      "0.9999994\n",
      "0.99999976\n",
      "0.99999964\n",
      "0.99999976\n",
      "0.99999857\n",
      "0.9999496\n",
      "0.99998343\n",
      "0.99999964\n",
      "0.9999999\n",
      "0.99999344\n",
      "0.99999654\n",
      "0.9999999\n",
      "0.9999994\n",
      "0.9999999\n",
      "0.9999999\n",
      "0.99999976\n",
      "0.9999635\n",
      "0.99999833\n",
      "0.99999833\n",
      "0.9999938\n",
      "0.999982\n",
      "0.99999726\n",
      "0.99999976\n",
      "0.9999999\n",
      "0.9999999\n",
      "0.99999726\n",
      "0.9999999\n",
      "0.9999478\n",
      "0.99999976\n",
      "0.9999999\n",
      "0.99999416\n",
      "0.9999691\n",
      "0.9999939\n",
      "0.99998045\n",
      "0.99999964\n",
      "0.9999962\n",
      "0.9999999\n",
      "0.999926\n",
      "0.99999964\n",
      "0.99998844\n",
      "0.99999976\n",
      "0.999998\n",
      "0.99991965\n",
      "0.99999964\n",
      "0.99999976\n",
      "0.99999976\n",
      "0.9999999\n",
      "0.9999999\n",
      "0.99999857\n",
      "0.99999416\n",
      "0.9999676\n",
      "0.9999739\n",
      "0.99999726\n",
      "0.99999785\n",
      "0.9999999\n",
      "0.9999964\n",
      "0.99999976\n",
      "0.9999999\n",
      "0.9999999\n",
      "0.99999726\n",
      "0.9999999\n",
      "0.9999999\n",
      "0.9999957\n",
      "0.99989665\n",
      "0.99999964\n",
      "0.9999716\n",
      "0.9999995\n",
      "0.9999912\n",
      "0.99999905\n",
      "0.9999994\n",
      "0.9999994\n",
      "0.9999993\n",
      "0.9999994\n",
      "0.9999999\n",
      "0.9999994\n",
      "0.9999981\n",
      "0.9999989\n",
      "0.9999813\n",
      "0.99999976\n",
      "0.99989617\n",
      "0.9999999\n",
      "0.9999999\n",
      "0.9999999\n",
      "0.99999464\n",
      "0.9999912\n",
      "0.9999882\n",
      "0.9999926\n",
      "0.99999917\n",
      "0.9999999\n",
      "0.99999976\n",
      "0.999987\n",
      "0.99999905\n",
      "0.999997\n",
      "0.9999993\n",
      "0.99999404\n",
      "0.99999976\n",
      "0.99999976\n",
      "0.9999994\n",
      "0.99999917\n",
      "0.99999785\n",
      "0.9996333\n",
      "0.9999999\n",
      "0.99999857\n",
      "0.9999697\n",
      "0.9999999\n",
      "0.9999999\n",
      "0.99999976\n",
      "0.99998677\n",
      "0.99999976\n",
      "0.9999355\n",
      "0.9999757\n",
      "0.9999982\n",
      "0.99999976\n",
      "0.9999995\n"
     ]
    },
    {
     "name": "stdout",
     "output_type": "stream",
     "text": [
      "0.9999999\n",
      "0.9999989\n",
      "0.99999917\n",
      "0.99995553\n",
      "0.9999974\n",
      "0.99998665\n",
      "0.99999976\n",
      "0.9999999\n",
      "0.9999335\n",
      "0.99999905\n",
      "0.9997353\n",
      "0.9999666\n",
      "0.9999999\n",
      "0.9999999\n",
      "0.9999516\n",
      "0.9999999\n",
      "0.999998\n",
      "0.99999976\n",
      "0.99999666\n",
      "0.9999999\n",
      "0.99999976\n",
      "0.99997497\n",
      "0.9999559\n",
      "0.99999976\n",
      "0.9999999\n",
      "0.9999999\n",
      "0.9999833\n",
      "0.9999999\n",
      "0.9998599\n",
      "0.99999917\n",
      "0.9999888\n",
      "0.99999523\n",
      "0.9999815\n",
      "0.9999999\n",
      "0.9999974\n",
      "0.9999999\n",
      "0.99969137\n",
      "0.9999999\n",
      "0.99999976\n",
      "0.999998\n",
      "0.9999999\n",
      "0.9999988\n",
      "0.9999994\n",
      "0.99999785\n",
      "0.9999995\n",
      "0.9999999\n",
      "0.9999999\n",
      "0.9999999\n",
      "0.9999962\n",
      "0.9999993\n",
      "0.99999905\n",
      "0.99999976\n",
      "0.9999634\n",
      "0.9999999\n",
      "0.99999976\n",
      "0.9999182\n",
      "0.99999154\n",
      "0.9999995\n",
      "0.99999714\n",
      "0.9999999\n",
      "0.9999957\n",
      "0.999998\n",
      "0.9999999\n",
      "0.99999976\n",
      "0.9997986\n",
      "0.9999999\n",
      "0.99999964\n",
      "0.99983215\n",
      "0.99997234\n",
      "0.99999416\n",
      "0.9999987\n",
      "0.9999896\n",
      "0.99999976\n",
      "0.99999976\n",
      "0.99999917\n",
      "0.99999607\n",
      "0.9999999\n",
      "0.9999999\n",
      "0.99999964\n",
      "0.99999416\n",
      "0.9999534\n",
      "0.99994636\n",
      "0.99999964\n",
      "0.9999999\n",
      "0.99999976\n",
      "0.999998\n",
      "0.99972814\n",
      "0.9999999\n",
      "0.99999964\n",
      "0.99999964\n",
      "0.999998\n",
      "0.9999995\n",
      "0.99999905\n",
      "0.9999975\n",
      "0.9999981\n",
      "0.9999999\n",
      "0.9999994\n",
      "0.99999964\n",
      "0.9999999\n",
      "0.9999958\n",
      "0.9999999\n",
      "0.9999999\n",
      "0.99999845\n",
      "0.999998\n",
      "0.9999999\n",
      "0.99999964\n",
      "0.9999999\n",
      "0.99999976\n",
      "0.99960035\n",
      "0.9999995\n",
      "0.9999989\n",
      "0.9999999\n",
      "0.9999999\n",
      "0.9999999\n",
      "0.9999995\n",
      "0.9999999\n",
      "0.99999976\n",
      "0.9999993\n",
      "0.999992\n",
      "0.99999964\n",
      "0.99999595\n",
      "0.9999999\n",
      "0.99999976\n",
      "0.9999733\n",
      "0.99999917\n",
      "0.9999994\n",
      "0.99999964\n",
      "0.9999608\n",
      "0.99999964\n",
      "0.9999994\n",
      "0.9999999\n",
      "0.9999995\n",
      "0.99999964\n",
      "0.99998164\n",
      "0.99993515\n",
      "0.9998704\n",
      "0.9999964\n",
      "0.9999999\n",
      "0.99999905\n",
      "0.99999976\n",
      "0.99999964\n",
      "0.99993324\n",
      "0.9999993\n",
      "0.9999987\n",
      "0.99999976\n",
      "0.9999993\n",
      "0.99999976\n",
      "0.99999964\n",
      "0.99999905\n",
      "0.99999976\n",
      "0.99999976\n",
      "0.99999833\n",
      "0.99999\n",
      "0.9999999\n",
      "0.99999785\n",
      "0.9999962\n",
      "0.99999976\n",
      "0.99999976\n",
      "0.9999999\n",
      "0.99999976\n",
      "0.99999964\n",
      "0.9999999\n",
      "0.99976784\n",
      "0.9999982\n",
      "0.999998\n",
      "0.9999999\n",
      "0.99999976\n",
      "0.9999999\n",
      "0.99990046\n",
      "0.99999905\n",
      "0.99999964\n",
      "0.999995\n",
      "0.99999976\n",
      "0.99999976\n",
      "0.99999976\n",
      "0.9999802\n",
      "0.9999999\n",
      "0.9999994\n",
      "0.9999994\n",
      "0.99999976\n",
      "0.9999995\n",
      "0.9999999\n",
      "0.9999995\n",
      "0.99999976\n",
      "0.9999999\n",
      "0.999998\n",
      "0.9999989\n",
      "0.9999999\n",
      "0.9999993\n",
      "0.9999999\n",
      "0.99987674\n",
      "0.9999999\n",
      "0.9999999\n",
      "0.999997\n",
      "0.9999999\n",
      "0.99999976\n",
      "0.9999864\n",
      "0.9999912\n",
      "0.999992\n",
      "0.9999995\n",
      "0.99999976\n",
      "0.99999976\n",
      "0.99999964\n",
      "0.99999833\n",
      "0.9999994\n",
      "0.9994404\n",
      "0.9999988\n",
      "0.99999416\n",
      "0.999964\n",
      "0.9999999\n",
      "0.9999999\n",
      "0.99999905\n",
      "0.9999995\n",
      "0.99999726\n",
      "0.99999726\n",
      "0.99999845\n",
      "0.9999995\n",
      "0.999992\n",
      "0.99999976\n",
      "0.99999845\n",
      "0.99999845\n",
      "0.9999994\n",
      "0.9999994\n",
      "0.9999988\n",
      "0.9999999\n",
      "0.99999416\n",
      "0.99994946\n",
      "0.9999999\n",
      "0.9999999\n",
      "0.99999976\n",
      "0.9999881\n",
      "0.99999964\n",
      "0.99990916\n",
      "0.9999678\n",
      "0.9999931\n",
      "0.99999523\n",
      "0.99999905\n",
      "0.99999833\n",
      "0.99994314\n",
      "0.99999964\n",
      "0.99999917\n",
      "0.9999988\n",
      "0.9999999\n",
      "0.9998913\n",
      "0.99999726\n",
      "0.9999912\n",
      "0.9999684\n",
      "0.99999917\n",
      "0.9999999\n",
      "0.99999964\n",
      "0.9997856\n",
      "0.9999999\n",
      "0.99999595\n",
      "0.9999994\n",
      "0.999966\n",
      "0.9999993\n",
      "0.99995816\n",
      "0.9999995\n",
      "0.99999976\n",
      "0.99999976\n",
      "0.99997425\n",
      "0.9999858\n",
      "0.9999975\n",
      "0.99999976\n",
      "0.999998\n",
      "0.9999999\n",
      "0.999998\n",
      "0.9999999\n",
      "0.999995\n",
      "0.9999999\n",
      "0.99999976\n",
      "0.99999964\n",
      "0.9999999\n",
      "0.9999976\n",
      "0.9999777\n",
      "0.99997985\n",
      "0.99999905\n",
      "0.9999999\n",
      "0.9999883\n",
      "0.9999999\n",
      "0.9999999\n",
      "0.9999863\n",
      "0.9999999\n",
      "0.99999726\n",
      "0.9999999\n",
      "0.999998\n",
      "0.99999976\n",
      "0.99999976\n",
      "0.9999999\n",
      "0.9999999\n",
      "0.99999034\n",
      "0.99999225\n",
      "0.9999788\n",
      "0.9998996\n",
      "0.9999995\n",
      "0.9999889\n",
      "0.9999981\n",
      "0.99995387\n",
      "0.9999722\n",
      "0.9999889\n",
      "0.9998084\n",
      "0.9999995\n",
      "0.9999999\n",
      "0.9999993\n",
      "0.9999999\n",
      "0.999949\n",
      "0.9999732\n",
      "0.9999999\n",
      "0.9999963\n",
      "0.9999999\n",
      "0.9999999\n",
      "0.9999931\n",
      "0.99999917\n",
      "0.99999475\n",
      "0.9999999\n",
      "0.99999976\n",
      "0.99999964\n",
      "0.9999999\n",
      "0.9999995\n",
      "0.99999905\n",
      "0.9999995\n",
      "0.9999994\n",
      "0.9999999\n",
      "0.9999999\n",
      "0.9999981\n",
      "0.9999832\n",
      "0.9999907\n",
      "0.99999964\n",
      "0.9999962\n",
      "0.9999963\n",
      "0.9999975\n",
      "0.9999999\n",
      "0.9999995\n",
      "0.9999999\n",
      "0.99990284\n",
      "0.9999995\n",
      "0.9999999\n",
      "0.99999726\n",
      "0.99999976\n",
      "0.9999999\n",
      "0.999997\n",
      "0.9999999\n",
      "0.9999982\n",
      "0.9999502\n",
      "0.9999993\n",
      "0.9999999\n",
      "0.9999989\n",
      "0.99999917\n",
      "0.9999981\n",
      "0.99999964\n",
      "0.9999999\n",
      "0.99995196\n",
      "0.99999654\n",
      "0.99999976\n",
      "0.99999225\n",
      "0.99999166\n",
      "0.99996245\n",
      "0.99999976\n",
      "0.99998\n",
      "0.9999999\n",
      "0.9999999\n",
      "0.9999999\n",
      "0.99999976\n",
      "0.9999994\n",
      "0.9999994\n",
      "0.99999964\n",
      "0.9999999\n",
      "0.99999845\n",
      "0.99999857\n",
      "0.999998\n",
      "0.9999999\n",
      "0.9996611\n",
      "0.9999896\n",
      "0.9999995\n",
      "0.9999962\n",
      "0.9999999\n",
      "0.9999913\n",
      "0.9999902\n",
      "0.9999995\n",
      "0.99999833\n",
      "0.9999999\n",
      "0.9999993\n",
      "0.99999976\n",
      "0.9999999\n",
      "0.9999505\n",
      "0.9999994\n",
      "0.99999917\n",
      "0.9994748\n",
      "0.9999995\n",
      "0.9999889\n",
      "0.9999999\n",
      "0.99999285\n",
      "0.9999999\n",
      "0.99999905\n",
      "0.9999969\n",
      "0.9999999\n",
      "0.99999785\n",
      "0.99999976\n",
      "0.99999976\n",
      "0.9999951\n",
      "0.99996483\n",
      "0.9999999\n",
      "0.99995446\n",
      "0.999997\n",
      "0.99999905\n",
      "0.99999666\n",
      "0.9999999\n",
      "0.99999976\n",
      "0.99999976\n",
      "0.999997\n",
      "0.9999864\n",
      "0.9999856\n",
      "0.99999774\n",
      "0.9999999\n",
      "0.9999999\n",
      "0.99999154\n",
      "0.9997105\n",
      "0.9999999\n",
      "0.9999958\n",
      "0.9997725\n",
      "0.9999999\n",
      "0.9999876\n",
      "0.99999964\n",
      "0.9999982\n",
      "0.9999918\n",
      "0.9999999\n",
      "0.99999964\n",
      "0.99999964\n",
      "0.99999976\n",
      "0.9999968\n",
      "0.9999231\n",
      "0.9999968\n",
      "0.9999999\n",
      "0.9999982\n",
      "0.9999999\n",
      "0.9999999\n",
      "0.9999999\n",
      "0.99999976\n",
      "0.9999995\n",
      "0.9999896\n",
      "0.99999726\n",
      "0.9999999\n",
      "0.9999994\n",
      "0.9999995\n",
      "0.9999763\n",
      "0.9999999\n",
      "0.9999999\n",
      "0.9999999\n",
      "0.99999976\n",
      "0.9999877\n",
      "0.9999968\n",
      "0.9999913\n",
      "0.99999607\n",
      "0.9999939\n",
      "0.99995315\n",
      "0.9999999\n",
      "0.9999999\n",
      "0.9999999\n",
      "0.99999917\n",
      "0.9999689\n",
      "0.99998987\n",
      "0.99999905\n",
      "0.9997476\n",
      "0.9999846\n",
      "0.9998036\n",
      "0.9999988\n",
      "0.9999999\n",
      "0.9999939\n",
      "0.99999607\n",
      "0.99999774\n",
      "0.9999999\n",
      "0.99995136\n",
      "0.9999999\n",
      "0.9999994\n",
      "0.9999937\n",
      "0.99999976\n",
      "0.9999995\n",
      "0.99999964\n",
      "0.9999999\n",
      "0.9999999\n",
      "0.99999976\n",
      "0.999998\n",
      "0.9999999\n",
      "0.99999106\n",
      "0.9999999\n",
      "0.9999883\n",
      "0.99999976\n",
      "0.99999595\n",
      "0.9999999\n",
      "0.9999982\n",
      "0.9999999\n",
      "0.99999964\n",
      "0.9999416\n",
      "0.9999989\n",
      "0.9999999\n",
      "0.9999989\n",
      "0.999987\n",
      "0.99999917\n",
      "0.9999994\n",
      "0.99998486\n",
      "0.9999964\n",
      "0.99998546\n",
      "0.9999895\n",
      "0.99981445\n",
      "0.99999964\n",
      "0.9999994\n",
      "0.9999999\n",
      "0.9999999\n",
      "0.9999999\n",
      "0.99999964\n",
      "0.9999999\n",
      "0.9999995\n",
      "0.9999999\n",
      "0.9999994\n",
      "0.99996746\n",
      "0.9999999\n",
      "0.9999994\n",
      "0.9999993\n",
      "0.9999974\n",
      "0.99999964\n",
      "0.99999976\n",
      "0.9999999\n",
      "0.99994946\n",
      "0.99999833\n",
      "0.99999356\n",
      "0.9999999\n",
      "0.9999999\n",
      "0.99999976\n",
      "0.99999535\n",
      "0.9999999\n",
      "0.99999475\n",
      "0.99999976\n",
      "0.99999905\n",
      "0.9999989\n",
      "0.9999999\n",
      "0.9999995\n",
      "0.9999993\n",
      "0.9999877\n",
      "0.9999999\n",
      "0.99998903\n",
      "0.9999982\n",
      "0.9999994\n",
      "0.9999999\n",
      "0.99999714\n",
      "0.9999945\n",
      "0.9999999\n",
      "0.99999857\n",
      "0.9999993\n",
      "0.99999976\n",
      "0.9999801\n",
      "0.9999975\n",
      "0.9999999\n",
      "0.9999994\n",
      "0.9999697\n",
      "0.9999999\n",
      "0.9998442\n",
      "0.99999297\n",
      "0.9999957\n",
      "0.9999703\n",
      "0.99998355\n",
      "0.99999964\n",
      "0.9999999\n",
      "0.9999995\n",
      "0.9999999\n",
      "0.99999654\n",
      "0.99999917\n",
      "0.99999964\n",
      "0.99999654\n",
      "0.9999471\n",
      "0.9999999\n",
      "0.99991727\n",
      "0.9999925\n",
      "0.9999956\n",
      "0.99993265\n",
      "0.9999999\n",
      "0.99999774\n",
      "0.9999701\n",
      "0.9999999\n",
      "0.9999975\n",
      "0.99999976\n",
      "0.99995625\n",
      "0.9999387\n",
      "0.99999976\n",
      "0.99999976\n",
      "0.99999976\n",
      "0.99999833\n",
      "0.99999833\n",
      "0.999984\n",
      "0.99999666\n",
      "0.9999999\n",
      "0.9999896\n",
      "0.9999815\n",
      "0.9999987\n",
      "0.99998844\n",
      "0.9999931\n",
      "0.99999976\n",
      "0.99999595\n",
      "0.99999976\n",
      "0.9999999\n",
      "0.99998975\n",
      "0.9999999\n",
      "0.9999411\n",
      "0.99999917\n",
      "0.9999932\n",
      "0.9999999\n",
      "0.99999774\n",
      "0.9999304\n",
      "0.9999999\n",
      "0.99999976\n",
      "0.9999939\n",
      "0.99999154\n",
      "0.9999367\n",
      "0.99999976\n",
      "0.9999999\n",
      "0.9999882\n",
      "0.99999976\n",
      "0.9999999\n",
      "0.99999106\n",
      "0.9998165\n",
      "0.9999999\n",
      "0.9999999\n",
      "0.99999964\n",
      "0.9999989\n",
      "0.99994767\n",
      "0.99999964\n",
      "0.9999999\n",
      "0.9999999\n",
      "0.9999994\n",
      "0.9999999\n",
      "0.99999976\n",
      "0.9999902\n",
      "0.99999774\n",
      "0.9999964\n",
      "0.9999975\n",
      "0.9999995\n",
      "0.9999999\n",
      "0.9999989\n",
      "0.9999988\n",
      "0.9999994\n",
      "0.9999981\n",
      "0.9999993\n",
      "0.99999976\n",
      "0.9999988\n",
      "0.9999999\n",
      "0.9999999\n",
      "0.9999999\n",
      "0.9999981\n",
      "0.99996495\n",
      "0.99999964\n",
      "0.9999862\n",
      "0.99999976\n",
      "0.9999981\n",
      "0.99977225\n",
      "0.9999912\n",
      "0.9999877\n",
      "0.999995\n",
      "0.9999999\n",
      "0.99999654\n",
      "0.99999976\n",
      "0.9999999\n",
      "0.99999964\n",
      "0.9999999\n",
      "0.9999999\n",
      "0.9999999\n",
      "0.9999963\n",
      "0.99999964\n",
      "0.9999982\n",
      "0.999998\n",
      "0.9999995\n",
      "0.9999976\n",
      "0.99999857\n",
      "0.9999962\n",
      "0.99999917\n",
      "0.99998665\n",
      "0.99998116\n",
      "0.99997187\n",
      "0.99997973\n",
      "0.9999999\n",
      "0.99999785\n",
      "0.99999964\n",
      "0.9999995\n",
      "0.99999976\n",
      "0.999964\n",
      "0.99999905\n",
      "0.9999999\n",
      "0.9999999\n",
      "0.99999785\n",
      "0.9998259\n",
      "0.9999999\n",
      "0.99997497\n",
      "0.99999917\n",
      "0.99999976\n",
      "0.9999715\n",
      "0.9999999\n",
      "0.99999976\n",
      "0.9999999\n",
      "0.9999999\n",
      "0.9999858\n",
      "0.9999993\n",
      "0.9999999\n",
      "0.9999\n",
      "0.9999008\n",
      "0.9999987\n",
      "0.99999774\n",
      "0.9999999\n",
      "0.99900025\n",
      "0.9999999\n",
      "0.9998914\n",
      "0.99999976\n",
      "0.9999995\n",
      "0.9999999\n",
      "0.9999993\n",
      "0.9999999\n",
      "0.9999999\n",
      "0.9999999\n",
      "0.99999595\n",
      "0.9999999\n",
      "0.9999999\n",
      "0.9999851\n",
      "0.9999993\n",
      "0.999998\n",
      "0.9999994\n",
      "0.9999999\n",
      "0.99999976\n",
      "0.99986136\n",
      "0.9999808\n",
      "0.99997926\n",
      "0.9999989\n",
      "0.9999999\n",
      "0.9999999\n",
      "0.99992836\n",
      "0.9999994\n",
      "0.999985\n",
      "0.9999995\n",
      "0.9999962\n",
      "0.9999734\n",
      "0.9999994\n",
      "0.9999989\n",
      "0.99999976\n",
      "0.9999999\n",
      "0.99999976\n",
      "0.99999225\n",
      "0.9999596\n",
      "0.99996555\n",
      "0.9999999\n",
      "0.99999976\n",
      "0.9999025\n",
      "0.9999999\n",
      "0.9999082\n",
      "0.99999917\n",
      "0.9999999\n",
      "0.9999988\n",
      "0.9999949\n",
      "0.9999974\n",
      "0.9999999\n",
      "0.9999993\n",
      "0.9999994\n",
      "0.9999957\n",
      "0.9999999\n",
      "0.9999999\n",
      "0.99999464\n",
      "0.999985\n",
      "0.9999999\n",
      "0.99999976\n",
      "0.9999999\n",
      "0.9999994\n",
      "0.99999726\n",
      "0.9999994\n",
      "0.9999995\n",
      "0.9999999\n",
      "0.9999999\n",
      "0.9999999\n",
      "0.9999933\n",
      "0.9999999\n",
      "0.99999416\n",
      "0.9999989\n",
      "0.9999999\n",
      "0.9999999\n",
      "0.9999968\n",
      "0.99999964\n",
      "0.99999976\n",
      "0.9999999\n",
      "0.9999862\n",
      "0.99999547\n",
      "0.99999964\n",
      "0.9999999\n",
      "0.9999999\n",
      "0.99999976\n",
      "0.99999547\n",
      "0.9999771\n",
      "0.9999994\n",
      "0.9998567\n",
      "0.99999964\n",
      "0.9999999\n",
      "0.9999995\n",
      "0.9999999\n",
      "0.99999344\n",
      "0.99999964\n",
      "0.9999982\n",
      "0.9999863\n",
      "0.9999999\n",
      "0.99999154\n",
      "0.99999917\n",
      "0.99999774\n",
      "0.9999995\n",
      "0.9999949\n",
      "0.99983966\n",
      "0.99999964\n",
      "0.99999833\n",
      "0.9999883\n",
      "0.99984\n",
      "0.99999976\n",
      "0.9999999\n",
      "0.9999999\n",
      "0.9999982\n",
      "0.9999975\n",
      "0.999982\n",
      "0.9999932\n",
      "0.99999833\n",
      "0.9999999\n",
      "0.99999976\n",
      "0.99980897\n",
      "0.9999999\n",
      "0.99999905\n",
      "0.99990976\n",
      "0.9999994\n",
      "0.9999974\n",
      "0.9999999\n",
      "0.99999964\n",
      "0.9999999\n",
      "0.9999999\n",
      "0.9999993\n",
      "0.99999905\n",
      "0.9999995\n",
      "0.999997\n",
      "0.9999999\n",
      "0.99999857\n",
      "0.99996257\n",
      "0.99999845\n",
      "0.9998903\n",
      "0.9999999\n",
      "0.9999999\n",
      "0.99999154\n",
      "0.9998801\n",
      "0.9997576\n",
      "0.99999857\n",
      "0.99999964\n",
      "0.9999999\n",
      "0.9999999\n",
      "0.99999154\n",
      "0.99999857\n",
      "0.9999764\n",
      "0.9999949\n",
      "0.9999999\n",
      "0.99999905\n",
      "0.99999976\n",
      "0.999997\n",
      "0.99999905\n",
      "0.99999976\n",
      "0.9999999\n",
      "0.9999999\n",
      "0.99999976\n",
      "0.9999999\n",
      "0.99999654\n",
      "0.99999964\n",
      "0.9999933\n",
      "0.99999106\n",
      "0.9999999\n",
      "0.9999995\n",
      "0.9999999\n",
      "0.9999994\n",
      "0.99999785\n",
      "0.9999999\n",
      "0.99999917\n",
      "0.9999995\n",
      "0.99999905\n",
      "0.99999976\n",
      "0.9999676\n",
      "0.99999547\n",
      "0.9999999\n",
      "0.9999999\n",
      "0.99999976\n",
      "0.99999404\n",
      "0.9999962\n",
      "0.9999999\n",
      "0.999998\n",
      "0.9999999\n",
      "0.99999976\n",
      "0.99999976\n",
      "0.9999988\n",
      "0.9999999\n",
      "0.99998355\n",
      "0.99999845\n",
      "0.9999999\n",
      "0.9999995\n",
      "0.9999999\n",
      "0.99999964\n",
      "0.9999999\n",
      "0.99999976\n",
      "0.9999995\n",
      "0.9999999\n",
      "0.9999999\n",
      "0.9999999\n",
      "0.9999958\n",
      "0.9999995\n",
      "0.9999999\n",
      "0.9999981\n",
      "0.9999957\n",
      "0.99999404\n",
      "0.99999976\n"
     ]
    }
   ],
   "source": [
    "for item_no in km_item_list:\n",
    "    print(max(predictions_tr[item_no]))"
   ]
  }
 ],
 "metadata": {
  "kernelspec": {
   "display_name": "Python 3",
   "language": "python",
   "name": "python3"
  },
  "language_info": {
   "codemirror_mode": {
    "name": "ipython",
    "version": 3
   },
   "file_extension": ".py",
   "mimetype": "text/x-python",
   "name": "python",
   "nbconvert_exporter": "python",
   "pygments_lexer": "ipython3",
   "version": "3.7.4"
  }
 },
 "nbformat": 4,
 "nbformat_minor": 2
}
